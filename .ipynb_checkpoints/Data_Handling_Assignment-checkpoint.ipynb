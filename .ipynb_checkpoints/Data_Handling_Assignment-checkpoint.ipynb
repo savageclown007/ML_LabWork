{
 "cells": [
  {
   "cell_type": "markdown",
   "id": "3d7378ad",
   "metadata": {},
   "source": [
    "## Data Handling"
   ]
  },
  {
   "cell_type": "code",
   "execution_count": 1,
   "id": "c2ba7489",
   "metadata": {},
   "outputs": [],
   "source": [
    "import pandas as pd"
   ]
  },
  {
   "cell_type": "code",
   "execution_count": 2,
   "id": "24a54a1d",
   "metadata": {},
   "outputs": [
    {
     "data": {
      "text/html": [
       "<div>\n",
       "<style scoped>\n",
       "    .dataframe tbody tr th:only-of-type {\n",
       "        vertical-align: middle;\n",
       "    }\n",
       "\n",
       "    .dataframe tbody tr th {\n",
       "        vertical-align: top;\n",
       "    }\n",
       "\n",
       "    .dataframe thead th {\n",
       "        text-align: right;\n",
       "    }\n",
       "</style>\n",
       "<table border=\"1\" class=\"dataframe\">\n",
       "  <thead>\n",
       "    <tr style=\"text-align: right;\">\n",
       "      <th></th>\n",
       "      <th>Mpg</th>\n",
       "      <th>Cylinders</th>\n",
       "      <th>Displacement</th>\n",
       "      <th>Horsepower</th>\n",
       "      <th>Weight</th>\n",
       "      <th>Acceleration</th>\n",
       "      <th>Model year</th>\n",
       "      <th>Origin</th>\n",
       "      <th>Car name</th>\n",
       "    </tr>\n",
       "  </thead>\n",
       "  <tbody>\n",
       "    <tr>\n",
       "      <th>0</th>\n",
       "      <td>18.0</td>\n",
       "      <td>8</td>\n",
       "      <td>307.0</td>\n",
       "      <td>130.0</td>\n",
       "      <td>3504.0</td>\n",
       "      <td>12.0</td>\n",
       "      <td>70</td>\n",
       "      <td>1</td>\n",
       "      <td>\"chevrolet chevelle malibu\"</td>\n",
       "    </tr>\n",
       "    <tr>\n",
       "      <th>1</th>\n",
       "      <td>15.0</td>\n",
       "      <td>8</td>\n",
       "      <td>350.0</td>\n",
       "      <td>165.0</td>\n",
       "      <td>3693.0</td>\n",
       "      <td>11.5</td>\n",
       "      <td>70</td>\n",
       "      <td>1</td>\n",
       "      <td>\"buick skylark 320\"</td>\n",
       "    </tr>\n",
       "    <tr>\n",
       "      <th>2</th>\n",
       "      <td>18.0</td>\n",
       "      <td>8</td>\n",
       "      <td>318.0</td>\n",
       "      <td>150.0</td>\n",
       "      <td>3436.0</td>\n",
       "      <td>11.0</td>\n",
       "      <td>70</td>\n",
       "      <td>1</td>\n",
       "      <td>\"plymouth satellite\"</td>\n",
       "    </tr>\n",
       "    <tr>\n",
       "      <th>3</th>\n",
       "      <td>16.0</td>\n",
       "      <td>8</td>\n",
       "      <td>304.0</td>\n",
       "      <td>150.0</td>\n",
       "      <td>3433.0</td>\n",
       "      <td>12.0</td>\n",
       "      <td>70</td>\n",
       "      <td>1</td>\n",
       "      <td>\"amc rebel sst\"</td>\n",
       "    </tr>\n",
       "    <tr>\n",
       "      <th>4</th>\n",
       "      <td>17.0</td>\n",
       "      <td>8</td>\n",
       "      <td>302.0</td>\n",
       "      <td>140.0</td>\n",
       "      <td>3449.0</td>\n",
       "      <td>10.5</td>\n",
       "      <td>70</td>\n",
       "      <td>1</td>\n",
       "      <td>\"ford torino\"</td>\n",
       "    </tr>\n",
       "  </tbody>\n",
       "</table>\n",
       "</div>"
      ],
      "text/plain": [
       "    Mpg  Cylinders  Displacement Horsepower  Weight  Acceleration  Model year  \\\n",
       "0  18.0          8         307.0      130.0  3504.0          12.0          70   \n",
       "1  15.0          8         350.0      165.0  3693.0          11.5          70   \n",
       "2  18.0          8         318.0      150.0  3436.0          11.0          70   \n",
       "3  16.0          8         304.0      150.0  3433.0          12.0          70   \n",
       "4  17.0          8         302.0      140.0  3449.0          10.5          70   \n",
       "\n",
       "   Origin                     Car name  \n",
       "0       1  \"chevrolet chevelle malibu\"  \n",
       "1       1          \"buick skylark 320\"  \n",
       "2       1         \"plymouth satellite\"  \n",
       "3       1              \"amc rebel sst\"  \n",
       "4       1                \"ford torino\"  "
      ]
     },
     "execution_count": 2,
     "metadata": {},
     "output_type": "execute_result"
    }
   ],
   "source": [
    "#importing data\n",
    "df=pd.read_fwf('https://archive.ics.uci.edu/ml/machine-learning-databases/auto-mpg/auto-mpg.data',header=None)\n",
    "df.columns = [\"Mpg\",\"Cylinders\",\"Displacement\",\"Horsepower\",\"Weight\",\"Acceleration\",\"Model year\",\"Origin\",\"Car name\"]\n",
    "# Displaying first five entries\n",
    "df.head()"
   ]
  },
  {
   "cell_type": "markdown",
   "id": "d6ac3acb",
   "metadata": {},
   "source": [
    "## Missing Values"
   ]
  },
  {
   "cell_type": "markdown",
   "id": "19ed14bd",
   "metadata": {},
   "source": [
    "In this dataset **missing values** are marked as **?** so we're going to replace the \"?\" with NaNs."
   ]
  },
  {
   "cell_type": "code",
   "execution_count": 3,
   "id": "7daee413",
   "metadata": {},
   "outputs": [],
   "source": [
    "import numpy as np\n",
    "\n",
    "# Converting \"?\" to NaNs\n",
    "df = df.replace(\"?\",np.NaN)"
   ]
  },
  {
   "cell_type": "code",
   "execution_count": 4,
   "id": "6f5ebd75",
   "metadata": {},
   "outputs": [
    {
     "data": {
      "text/plain": [
       "Mpg             0\n",
       "Cylinders       0\n",
       "Displacement    0\n",
       "Horsepower      6\n",
       "Weight          0\n",
       "Acceleration    0\n",
       "Model year      0\n",
       "Origin          0\n",
       "Car name        0\n",
       "dtype: int64"
      ]
     },
     "execution_count": 4,
     "metadata": {},
     "output_type": "execute_result"
    }
   ],
   "source": [
    "# Checking the fields which have missing values and the count of missing values in them\n",
    "df.isna().sum()"
   ]
  },
  {
   "cell_type": "markdown",
   "id": "1e41ef52",
   "metadata": {},
   "source": [
    "Above result shows that the column **\"Horsepower\"** have 6 missing values."
   ]
  },
  {
   "cell_type": "code",
   "execution_count": 5,
   "id": "982dd657",
   "metadata": {},
   "outputs": [
    {
     "data": {
      "text/plain": [
       "dtype('float64')"
      ]
     },
     "execution_count": 5,
     "metadata": {},
     "output_type": "execute_result"
    }
   ],
   "source": [
    "# Converting the values of Horsepower column to numeric\n",
    "df[\"Horsepower\"] = pd.to_numeric(df[\"Horsepower\"])\n",
    "df[\"Horsepower\"].dtype"
   ]
  },
  {
   "cell_type": "markdown",
   "id": "24f23926",
   "metadata": {},
   "source": [
    "#### Strategy 1: Given in Tutorial\n",
    "Handling the missing values using the strategy given in tutorial\n",
    "\n",
    "Approach 1: Filling the missing values in Horsepower column by median value"
   ]
  },
  {
   "cell_type": "code",
   "execution_count": 6,
   "id": "f91d0ba3",
   "metadata": {},
   "outputs": [
    {
     "name": "stdout",
     "output_type": "stream",
     "text": [
      "Before filling missing values:\n",
      "\n",
      "30     90.0\n",
      "31     95.0\n",
      "32      NaN\n",
      "33    100.0\n",
      "34    105.0\n",
      "Name: Horsepower, dtype: float64\n",
      "\n",
      "After filling missing values:\n",
      "\n",
      "30     90.0\n",
      "31     95.0\n",
      "32     93.5\n",
      "33    100.0\n",
      "34    105.0\n",
      "Name: Horsepower, dtype: float64\n"
     ]
    }
   ],
   "source": [
    "df_temp = df[\"Horsepower\"]\n",
    "\n",
    "print(\"Before filling missing values:\\n\")\n",
    "print(df_temp[30:35])\n",
    "\n",
    "df_temp = df_temp.fillna(df_temp.median())\n",
    "\n",
    "print(\"\\nAfter filling missing values:\\n\")\n",
    "print(df_temp[30:35])"
   ]
  },
  {
   "cell_type": "markdown",
   "id": "edac0899",
   "metadata": {},
   "source": [
    "Approach 2: Discarding the missing values"
   ]
  },
  {
   "cell_type": "code",
   "execution_count": 7,
   "id": "ed5f5e38",
   "metadata": {},
   "outputs": [
    {
     "name": "stdout",
     "output_type": "stream",
     "text": [
      "\n",
      "Number of rows in original data: 398\n",
      "\n",
      "Number of rows after dropping missing values: 392\n"
     ]
    }
   ],
   "source": [
    "df_temp = df[\"Horsepower\"]\n",
    "\n",
    "print('\\nNumber of rows in original data: %d' %(df.shape[0]))\n",
    "df_temp = df_temp.dropna()\n",
    "print('\\nNumber of rows after dropping missing values: %d' %(df_temp.shape[0]))"
   ]
  },
  {
   "cell_type": "markdown",
   "id": "b3685f90",
   "metadata": {},
   "source": [
    "### Strategy 2: Given on Kaggle tutorial\n",
    "Now we are going to handle missing values using the methods given on the kaggle tutorial: https://www.kaggle.com/alexisbcook/missing-values/tutorial\n",
    "\n",
    "We are directly moving to aproach 2 as approach 1 is already done in previous section\n",
    "\n",
    "Approach 2: Imputing the missing values with the mean value of the column using simple imputor"
   ]
  },
  {
   "cell_type": "code",
   "execution_count": 8,
   "id": "967e91dc",
   "metadata": {},
   "outputs": [
    {
     "name": "stdout",
     "output_type": "stream",
     "text": [
      "\n",
      " before filling missing values:\n",
      "     Mpg  Cylinders  Displacement  Horsepower  Weight  Acceleration  \\\n",
      "30  28.0          4         140.0        90.0  2264.0          15.5   \n",
      "31  25.0          4         113.0        95.0  2228.0          14.0   \n",
      "32  25.0          4          98.0         NaN  2046.0          19.0   \n",
      "33  19.0          6         232.0       100.0  2634.0          13.0   \n",
      "34  16.0          6         225.0       105.0  3439.0          15.5   \n",
      "\n",
      "    Model year  Origin  \n",
      "30          71       1  \n",
      "31          71       3  \n",
      "32          71       1  \n",
      "33          71       1  \n",
      "34          71       1  \n",
      "\n",
      " After filling missing values:\n",
      "     Mpg  Cylinders  Displacement  Horsepower  Weight  Acceleration  \\\n",
      "30  28.0          4         140.0   90.000000  2264.0          15.5   \n",
      "31  25.0          4         113.0   95.000000  2228.0          14.0   \n",
      "32  25.0          4          98.0  104.469388  2046.0          19.0   \n",
      "33  19.0          6         232.0  100.000000  2634.0          13.0   \n",
      "34  16.0          6         225.0  105.000000  3439.0          15.5   \n",
      "\n",
      "    Model year  Origin  \n",
      "30          71       1  \n",
      "31          71       3  \n",
      "32          71       1  \n",
      "33          71       1  \n",
      "34          71       1  \n"
     ]
    }
   ],
   "source": [
    "import sklearn\n",
    "from sklearn.impute import SimpleImputer\n",
    "from sklearn.compose import ColumnTransformer\n",
    "\n",
    "df_temp=df.drop(\"Car name\",axis=1)\n",
    "print(\"\\n before filling missing values:\")\n",
    "print(df_temp[30:35])\n",
    "# df_temp.columns.values\n",
    "\n",
    "#Initialising the imputer\n",
    "myImputer = SimpleImputer(strategy='mean')\n",
    "\n",
    "#Feature which contain missing values\n",
    "numfeatures = [\"Horsepower\"]\n",
    "\n",
    "imputer = ColumnTransformer([(\"myImputer\",myImputer,numfeatures)])\n",
    "\n",
    "filled_df = imputer.fit_transform(df_temp)\n",
    "# filled_df\n",
    "df_temp[\"Horsepower\"] = pd.DataFrame(filled_df,columns=[\"Horsepower\"])\n",
    "print(\"\\n After filling missing values:\")\n",
    "print(df_temp[30:35])"
   ]
  },
  {
   "cell_type": "markdown",
   "id": "97d65198",
   "metadata": {},
   "source": [
    "**Approach 3:** In this approach, we impute the missing values, as before. And, additionally, for each column with missing entries in the original dataset, we add a new column that shows the location of the imputed entries."
   ]
  },
  {
   "cell_type": "code",
   "execution_count": 9,
   "id": "7d70056e",
   "metadata": {},
   "outputs": [
    {
     "name": "stdout",
     "output_type": "stream",
     "text": [
      "\n",
      " before filling missing values:\n",
      "     Mpg  Cylinders  Displacement  Horsepower  Weight  Acceleration  \\\n",
      "30  28.0          4         140.0        90.0  2264.0          15.5   \n",
      "31  25.0          4         113.0        95.0  2228.0          14.0   \n",
      "32  25.0          4          98.0         NaN  2046.0          19.0   \n",
      "33  19.0          6         232.0       100.0  2634.0          13.0   \n",
      "34  16.0          6         225.0       105.0  3439.0          15.5   \n",
      "\n",
      "    Model year  Origin  Horsepower_was_missing  \n",
      "30          71       1                   False  \n",
      "31          71       3                   False  \n",
      "32          71       1                    True  \n",
      "33          71       1                   False  \n",
      "34          71       1                   False  \n",
      "\n",
      " After filling missing values:\n",
      "     Mpg  Cylinders  Displacement  Horsepower  Weight  Acceleration  \\\n",
      "30  28.0          4         140.0   90.000000  2264.0          15.5   \n",
      "31  25.0          4         113.0   95.000000  2228.0          14.0   \n",
      "32  25.0          4          98.0  104.469388  2046.0          19.0   \n",
      "33  19.0          6         232.0  100.000000  2634.0          13.0   \n",
      "34  16.0          6         225.0  105.000000  3439.0          15.5   \n",
      "\n",
      "    Model year  Origin  Horsepower_was_missing  \n",
      "30          71       1                   False  \n",
      "31          71       3                   False  \n",
      "32          71       1                    True  \n",
      "33          71       1                   False  \n",
      "34          71       1                   False  \n"
     ]
    }
   ],
   "source": [
    "# Taking fresh data with missing values\n",
    "df_temp=df.drop(\"Car name\",axis=1)\n",
    "\n",
    "# Adding a was_missing column if the column contains missing values\n",
    "for label,content in df_temp.items():\n",
    "    if pd.isna(content).sum():\n",
    "        df_temp[label+\"_was_missing\"] = pd.isna(content)\n",
    "\n",
    "print(\"\\n before filling missing values:\")\n",
    "print(df_temp[30:35])\n",
    "# df_temp.columns.values\n",
    "\n",
    "#Initialising the imputer\n",
    "myImputer = SimpleImputer(strategy='mean')\n",
    "\n",
    "#Feature which contain missing values\n",
    "numfeatures = [\"Horsepower\"]\n",
    "\n",
    "imputer = ColumnTransformer([(\"myImputer\",myImputer,numfeatures)])\n",
    "\n",
    "filled_df = imputer.fit_transform(df_temp)\n",
    "# filled_df\n",
    "df_temp[\"Horsepower\"] = pd.DataFrame(filled_df,columns=[\"Horsepower\"])\n",
    "print(\"\\n After filling missing values:\")\n",
    "print(df_temp[30:35])"
   ]
  },
  {
   "cell_type": "markdown",
   "id": "91b13308",
   "metadata": {},
   "source": [
    "### Using Scikit-learn\n",
    "\n",
    "#### Nearest neighbors imputation"
   ]
  },
  {
   "cell_type": "code",
   "execution_count": 10,
   "id": "a0ea3c64",
   "metadata": {},
   "outputs": [
    {
     "name": "stdout",
     "output_type": "stream",
     "text": [
      "\n",
      " before filling missing values:\n",
      "     Mpg  Cylinders  Displacement  Horsepower  Weight  Acceleration  \\\n",
      "30  28.0          4         140.0        90.0  2264.0          15.5   \n",
      "31  25.0          4         113.0        95.0  2228.0          14.0   \n",
      "32  25.0          4          98.0         NaN  2046.0          19.0   \n",
      "33  19.0          6         232.0       100.0  2634.0          13.0   \n",
      "34  16.0          6         225.0       105.0  3439.0          15.5   \n",
      "\n",
      "    Model year  Origin  \n",
      "30          71       1  \n",
      "31          71       3  \n",
      "32          71       1  \n",
      "33          71       1  \n",
      "34          71       1  \n",
      "\n",
      " After filling missing values:\n",
      "     Mpg  Cylinders  Displacement  Horsepower  Weight  Acceleration  \\\n",
      "30  28.0        4.0         140.0        90.0  2264.0          15.5   \n",
      "31  25.0        4.0         113.0        95.0  2228.0          14.0   \n",
      "32  25.0        4.0          98.0        65.5  2046.0          19.0   \n",
      "33  19.0        6.0         232.0       100.0  2634.0          13.0   \n",
      "34  16.0        6.0         225.0       105.0  3439.0          15.5   \n",
      "\n",
      "    Model year  Origin  \n",
      "30        71.0     1.0  \n",
      "31        71.0     3.0  \n",
      "32        71.0     1.0  \n",
      "33        71.0     1.0  \n",
      "34        71.0     1.0  \n"
     ]
    }
   ],
   "source": [
    "from sklearn.impute import KNNImputer\n",
    "\n",
    "np.random.seed(42)\n",
    "\n",
    "df_temp=df.drop(\"Car name\",axis=1)\n",
    "print(\"\\n before filling missing values:\")\n",
    "print(df_temp[30:35])\n",
    "\n",
    "# Initialising the KNNImputer\n",
    "imputer = KNNImputer(n_neighbors=2,weights=\"uniform\")\n",
    "# Fitting the model\n",
    "df_transformed = imputer.fit_transform(df_temp)\n",
    "\n",
    "df_temp = pd.DataFrame(df_transformed,columns=df_temp.columns.values)\n",
    "print(\"\\n After filling missing values:\")\n",
    "print(df_temp[30:35])"
   ]
  },
  {
   "cell_type": "markdown",
   "id": "660de5f0",
   "metadata": {},
   "source": [
    "### Strandization and Normalization\n",
    "\n",
    "#### A. Strategy given in Tutorial"
   ]
  },
  {
   "cell_type": "markdown",
   "id": "6fc75265",
   "metadata": {},
   "source": [
    "**Outliers**"
   ]
  },
  {
   "cell_type": "code",
   "execution_count": 11,
   "id": "cbc1a611",
   "metadata": {},
   "outputs": [
    {
     "data": {
      "text/plain": [
       "<AxesSubplot:>"
      ]
     },
     "execution_count": 11,
     "metadata": {},
     "output_type": "execute_result"
    },
    {
     "data": {
      "image/png": "[encoded data removed]",
      "text/plain": [
       "<Figure size 1440x720 with 1 Axes>"
      ]
     },
     "metadata": {
      "needs_background": "light"
     },
     "output_type": "display_data"
    }
   ],
   "source": [
    "import matplotlib\n",
    "%matplotlib inline\n",
    "\n",
    "df_temp2 = df_temp.drop(\"Weight\",axis=1)\n",
    "df_temp2.boxplot(figsize=(20,10))"
   ]
  },
  {
   "cell_type": "markdown",
   "id": "3c314fc2",
   "metadata": {},
   "source": [
    "The boxplot suggest that only 3 fields(MPG, Horsepower and acceleration) contain abnormally high values. So we're going to calculate the Z-score of each attribute and remove those instances with abnormally high and low Z-scores."
   ]
  },
  {
   "cell_type": "code",
   "execution_count": 12,
   "id": "8e45a5a1",
   "metadata": {},
   "outputs": [
    {
     "data": {
      "text/html": [
       "<div>\n",
       "<style scoped>\n",
       "    .dataframe tbody tr th:only-of-type {\n",
       "        vertical-align: middle;\n",
       "    }\n",
       "\n",
       "    .dataframe tbody tr th {\n",
       "        vertical-align: top;\n",
       "    }\n",
       "\n",
       "    .dataframe thead th {\n",
       "        text-align: right;\n",
       "    }\n",
       "</style>\n",
       "<table border=\"1\" class=\"dataframe\">\n",
       "  <thead>\n",
       "    <tr style=\"text-align: right;\">\n",
       "      <th></th>\n",
       "      <th>Mpg</th>\n",
       "      <th>Cylinders</th>\n",
       "      <th>Displacement</th>\n",
       "      <th>Horsepower</th>\n",
       "      <th>Acceleration</th>\n",
       "      <th>Model year</th>\n",
       "      <th>Origin</th>\n",
       "    </tr>\n",
       "  </thead>\n",
       "  <tbody>\n",
       "    <tr>\n",
       "      <th>20</th>\n",
       "      <td>0.190050</td>\n",
       "      <td>-0.855244</td>\n",
       "      <td>-0.800096</td>\n",
       "      <td>-0.445236</td>\n",
       "      <td>0.700554</td>\n",
       "      <td>-1.625381</td>\n",
       "      <td>0.532552</td>\n",
       "    </tr>\n",
       "    <tr>\n",
       "      <th>21</th>\n",
       "      <td>0.062107</td>\n",
       "      <td>-0.855244</td>\n",
       "      <td>-0.828867</td>\n",
       "      <td>-0.367075</td>\n",
       "      <td>-0.387314</td>\n",
       "      <td>-1.625381</td>\n",
       "      <td>0.532552</td>\n",
       "    </tr>\n",
       "    <tr>\n",
       "      <th>22</th>\n",
       "      <td>0.190050</td>\n",
       "      <td>-0.855244</td>\n",
       "      <td>-0.857639</td>\n",
       "      <td>-0.236807</td>\n",
       "      <td>0.700554</td>\n",
       "      <td>-1.625381</td>\n",
       "      <td>0.532552</td>\n",
       "    </tr>\n",
       "    <tr>\n",
       "      <th>23</th>\n",
       "      <td>0.317993</td>\n",
       "      <td>-0.855244</td>\n",
       "      <td>-0.694600</td>\n",
       "      <td>0.232159</td>\n",
       "      <td>-1.112559</td>\n",
       "      <td>-1.625381</td>\n",
       "      <td>0.532552</td>\n",
       "    </tr>\n",
       "    <tr>\n",
       "      <th>24</th>\n",
       "      <td>-0.321722</td>\n",
       "      <td>0.320532</td>\n",
       "      <td>0.053459</td>\n",
       "      <td>-0.367075</td>\n",
       "      <td>-0.206002</td>\n",
       "      <td>-1.625381</td>\n",
       "      <td>-0.714246</td>\n",
       "    </tr>\n",
       "  </tbody>\n",
       "</table>\n",
       "</div>"
      ],
      "text/plain": [
       "         Mpg  Cylinders  Displacement  Horsepower  Acceleration  Model year  \\\n",
       "20  0.190050  -0.855244     -0.800096   -0.445236      0.700554   -1.625381   \n",
       "21  0.062107  -0.855244     -0.828867   -0.367075     -0.387314   -1.625381   \n",
       "22  0.190050  -0.855244     -0.857639   -0.236807      0.700554   -1.625381   \n",
       "23  0.317993  -0.855244     -0.694600    0.232159     -1.112559   -1.625381   \n",
       "24 -0.321722   0.320532      0.053459   -0.367075     -0.206002   -1.625381   \n",
       "\n",
       "      Origin  \n",
       "20  0.532552  \n",
       "21  0.532552  \n",
       "22  0.532552  \n",
       "23  0.532552  \n",
       "24 -0.714246  "
      ]
     },
     "execution_count": 12,
     "metadata": {},
     "output_type": "execute_result"
    }
   ],
   "source": [
    "Z = (df_temp2-df_temp2.mean())/df_temp2.std()\n",
    "Z[20:25]"
   ]
  },
  {
   "cell_type": "code",
   "execution_count": 13,
   "id": "6d74ae99",
   "metadata": {},
   "outputs": [
    {
     "name": "stdout",
     "output_type": "stream",
     "text": [
      "Number of rows before discarding outliers = 398\n",
      "Number of rows after discarding missing values = 391\n"
     ]
    }
   ],
   "source": [
    "print('Number of rows before discarding outliers = %d' % (Z.shape[0]))\n",
    "\n",
    "#Discarding the instances with Z-score<=-1 and Z-score>=3\n",
    "z2 = Z.loc[((Z>-3).sum(axis=1)==7) & ((Z<3).sum(axis=1)==7),:]\n",
    "\n",
    "print('Number of rows after discarding missing values = %d' % (z2.shape[0]))"
   ]
  },
  {
   "cell_type": "markdown",
   "id": "92589c36",
   "metadata": {},
   "source": [
    "### B. Using Scikit-learn\n",
    "**Mapping to a Uniform distribution**\n",
    "\n",
    "`QuantileTransformer` provides a non-parametric transformation to map the data to a uniform distribution with values between 0 and 1:"
   ]
  },
  {
   "cell_type": "code",
   "execution_count": 14,
   "id": "c2a827ff",
   "metadata": {
    "scrolled": true
   },
   "outputs": [
    {
     "name": "stdout",
     "output_type": "stream",
     "text": [
      "\n",
      "Before Transformation:\n",
      "     Mpg  Cylinders  Displacement  Horsepower  Weight  Acceleration  \\\n",
      "30  28.0        4.0         140.0        90.0  2264.0          15.5   \n",
      "31  25.0        4.0         113.0        95.0  2228.0          14.0   \n",
      "32  25.0        4.0          98.0        65.5  2046.0          19.0   \n",
      "33  19.0        6.0         232.0       100.0  2634.0          13.0   \n",
      "34  16.0        6.0         225.0       105.0  3439.0          15.5   \n",
      "\n",
      "    Model year  Origin  \n",
      "30        71.0     1.0  \n",
      "31        71.0     3.0  \n",
      "32        71.0     1.0  \n",
      "33        71.0     1.0  \n",
      "34        71.0     1.0  \n",
      "\n",
      "After Transformation:\n",
      "         Mpg  Cylinders  Displacement  Horsepower    Weight  Acceleration  \\\n",
      "30  0.714286   0.265306      0.459184    0.459184  0.274476      0.510204   \n",
      "31  0.591837   0.265306      0.311224    0.520408  0.250604      0.275510   \n",
      "32  0.591837   0.265306      0.214286    0.088389  0.125586      0.887755   \n",
      "33  0.346939   0.642857      0.673469    0.602041  0.428095      0.163265   \n",
      "34  0.204082   0.642857      0.622449    0.642857  0.714575      0.510204   \n",
      "\n",
      "    Model year  Origin  \n",
      "30    0.102041     0.0  \n",
      "31    0.102041     1.0  \n",
      "32    0.102041     0.0  \n",
      "33    0.102041     0.0  \n",
      "34    0.102041     0.0  \n"
     ]
    }
   ],
   "source": [
    "from sklearn.preprocessing import QuantileTransformer\n",
    "\n",
    "print(\"\\nBefore Transformation:\")\n",
    "print(df_temp[30:35])\n",
    "\n",
    "# Instantiating the model\n",
    "quantileTransformer = QuantileTransformer(random_state=42,n_quantiles=50)\n",
    "\n",
    "# Fitting the model\n",
    "df_transformed = quantileTransformer.fit_transform(df_temp)\n",
    "\n",
    "df_temp2 = pd.DataFrame(df_transformed,columns=df_temp.columns.values)\n",
    "print(\"\\nAfter Transformation:\")\n",
    "print(df_temp2[30:35])"
   ]
  },
  {
   "cell_type": "markdown",
   "id": "9f9e678c",
   "metadata": {},
   "source": [
    "### Discretization\n"
   ]
  },
  {
   "cell_type": "code",
   "execution_count": 25,
   "id": "06bcc872",
   "metadata": {},
   "outputs": [
    {
     "data": {
      "text/plain": [
       "70.0    29\n",
       "71.0    28\n",
       "72.0    28\n",
       "73.0    40\n",
       "74.0    27\n",
       "75.0    30\n",
       "76.0    34\n",
       "77.0    28\n",
       "78.0    36\n",
       "79.0    29\n",
       "80.0    29\n",
       "81.0    29\n",
       "82.0    31\n",
       "Name: Model year, dtype: int64"
      ]
     },
     "execution_count": 25,
     "metadata": {},
     "output_type": "execute_result"
    },
    {
     "data": {
      "image/png": "[encoded data removed]",
      "text/plain": [
       "<Figure size 432x288 with 1 Axes>"
      ]
     },
     "metadata": {
      "needs_background": "light"
     },
     "output_type": "display_data"
    }
   ],
   "source": [
    "# Plotting the histogram to see the distribution of Model Year\n",
    "df_temp[\"Model year\"].hist(bins=10)\n",
    "df_temp[\"Model year\"].value_counts(sort=False)"
   ]
  },
  {
   "cell_type": "markdown",
   "id": "db98703d",
   "metadata": {},
   "source": [
    "First we are going to divide model year in 5 intervals."
   ]
  },
  {
   "cell_type": "code",
   "execution_count": 33,
   "id": "f072de40",
   "metadata": {},
   "outputs": [
    {
     "data": {
      "text/plain": [
       "(69.988, 72.4]    85\n",
       "(72.4, 74.8]      67\n",
       "(74.8, 77.2]      92\n",
       "(77.2, 79.6]      65\n",
       "(79.6, 82.0]      89\n",
       "Name: Model year, dtype: int64"
      ]
     },
     "execution_count": 33,
     "metadata": {},
     "output_type": "execute_result"
    }
   ],
   "source": [
    "bins = pd.cut(df_temp[\"Model year\"],5)\n",
    "bins.value_counts(sort=False)"
   ]
  },
  {
   "cell_type": "markdown",
   "id": "93ee93ff",
   "metadata": {},
   "source": [
    "To divide the model year attribute in equal frequency intervals we are going to use `qcut` method"
   ]
  },
  {
   "cell_type": "code",
   "execution_count": 34,
   "id": "e555318b",
   "metadata": {},
   "outputs": [
    {
     "data": {
      "text/plain": [
       "(69.999, 72.0]    85\n",
       "(72.0, 75.0]      97\n",
       "(75.0, 77.0]      62\n",
       "(77.0, 80.0]      94\n",
       "(80.0, 82.0]      60\n",
       "Name: Model year, dtype: int64"
      ]
     },
     "execution_count": 34,
     "metadata": {},
     "output_type": "execute_result"
    }
   ],
   "source": [
    "bins = pd.qcut(df_temp[\"Model year\"],5)\n",
    "bins.value_counts(sort=False)"
   ]
  },
  {
   "cell_type": "markdown",
   "id": "11ae6010",
   "metadata": {},
   "source": [
    "#### Using Scikit-Learn\n",
    "We are going to use `KBinsDiscretizer`"
   ]
  },
  {
   "cell_type": "code",
   "execution_count": 79,
   "id": "9f686e3f",
   "metadata": {},
   "outputs": [
    {
     "data": {
      "text/plain": [
       "0.0    107\n",
       "1.0     89\n",
       "2.0     31\n",
       "3.0     13\n",
       "4.0     57\n",
       "5.0      3\n",
       "6.0     42\n",
       "7.0     31\n",
       "8.0     16\n",
       "9.0      9\n",
       "dtype: int64"
      ]
     },
     "execution_count": 79,
     "metadata": {},
     "output_type": "execute_result"
    }
   ],
   "source": [
    "# Importing KBinsDiscretizer\n",
    "from sklearn.preprocessing import KBinsDiscretizer\n",
    "\n",
    "# establishing random seed\n",
    "np.random.seed(42)\n",
    "\n",
    "# Instantiating the model\n",
    "enc = KBinsDiscretizer(n_bins=10,strategy=\"uniform\",encode=\"ordinal\")\n",
    "\n",
    "# Transforming the Displacement column\n",
    "data_temp = df_temp[\"Displacement\"].to_numpy().reshape(len(df_temp[\"Displacement\"]),1)\n",
    "transformed = enc.fit_transform(data_temp)\n",
    "data_temp = pd.DataFrame(transformed)\n",
    "data_temp.value_counts(sort=False)"
   ]
  },
  {
   "cell_type": "code",
   "execution_count": null,
   "id": "8de56575",
   "metadata": {},
   "outputs": [],
   "source": []
  }
 ],
 "metadata": {
  "kernelspec": {
   "display_name": "Python 3 (ipykernel)",
   "language": "python",
   "name": "python3"
  },
  "language_info": {
   "codemirror_mode": {
    "name": "ipython",
    "version": 3
   },
   "file_extension": ".py",
   "mimetype": "text/x-python",
   "name": "python",
   "nbconvert_exporter": "python",
   "pygments_lexer": "ipython3",
   "version": "3.9.7"
  }
 },
 "nbformat": 4,
 "nbformat_minor": 5
}
