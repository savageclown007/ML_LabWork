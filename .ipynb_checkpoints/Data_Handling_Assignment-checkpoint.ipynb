{
 "cells": [
  {
   "cell_type": "markdown",
   "id": "3d7378ad",
   "metadata": {},
   "source": [
    "# ML Lab Homework 0\n",
    "\n",
    "## Data Handling "
   ]
  },
  {
   "cell_type": "code",
   "execution_count": 1,
   "id": "c2ba7489",
   "metadata": {},
   "outputs": [],
   "source": [
    "import pandas as pd\n",
    "from matplotlib import pyplot as plt"
   ]
  },
  {
   "cell_type": "code",
   "execution_count": 2,
   "id": "24a54a1d",
   "metadata": {},
   "outputs": [
    {
     "data": {
      "text/html": [
       "<div>\n",
       "<style scoped>\n",
       "    .dataframe tbody tr th:only-of-type {\n",
       "        vertical-align: middle;\n",
       "    }\n",
       "\n",
       "    .dataframe tbody tr th {\n",
       "        vertical-align: top;\n",
       "    }\n",
       "\n",
       "    .dataframe thead th {\n",
       "        text-align: right;\n",
       "    }\n",
       "</style>\n",
       "<table border=\"1\" class=\"dataframe\">\n",
       "  <thead>\n",
       "    <tr style=\"text-align: right;\">\n",
       "      <th></th>\n",
       "      <th>Mpg</th>\n",
       "      <th>Cylinders</th>\n",
       "      <th>Displacement</th>\n",
       "      <th>Horsepower</th>\n",
       "      <th>Weight</th>\n",
       "      <th>Acceleration</th>\n",
       "      <th>Model year</th>\n",
       "      <th>Origin</th>\n",
       "      <th>Car name</th>\n",
       "    </tr>\n",
       "  </thead>\n",
       "  <tbody>\n",
       "    <tr>\n",
       "      <th>0</th>\n",
       "      <td>18.0</td>\n",
       "      <td>8</td>\n",
       "      <td>307.0</td>\n",
       "      <td>130.0</td>\n",
       "      <td>3504.0</td>\n",
       "      <td>12.0</td>\n",
       "      <td>70</td>\n",
       "      <td>1</td>\n",
       "      <td>\"chevrolet chevelle malibu\"</td>\n",
       "    </tr>\n",
       "    <tr>\n",
       "      <th>1</th>\n",
       "      <td>15.0</td>\n",
       "      <td>8</td>\n",
       "      <td>350.0</td>\n",
       "      <td>165.0</td>\n",
       "      <td>3693.0</td>\n",
       "      <td>11.5</td>\n",
       "      <td>70</td>\n",
       "      <td>1</td>\n",
       "      <td>\"buick skylark 320\"</td>\n",
       "    </tr>\n",
       "    <tr>\n",
       "      <th>2</th>\n",
       "      <td>18.0</td>\n",
       "      <td>8</td>\n",
       "      <td>318.0</td>\n",
       "      <td>150.0</td>\n",
       "      <td>3436.0</td>\n",
       "      <td>11.0</td>\n",
       "      <td>70</td>\n",
       "      <td>1</td>\n",
       "      <td>\"plymouth satellite\"</td>\n",
       "    </tr>\n",
       "    <tr>\n",
       "      <th>3</th>\n",
       "      <td>16.0</td>\n",
       "      <td>8</td>\n",
       "      <td>304.0</td>\n",
       "      <td>150.0</td>\n",
       "      <td>3433.0</td>\n",
       "      <td>12.0</td>\n",
       "      <td>70</td>\n",
       "      <td>1</td>\n",
       "      <td>\"amc rebel sst\"</td>\n",
       "    </tr>\n",
       "    <tr>\n",
       "      <th>4</th>\n",
       "      <td>17.0</td>\n",
       "      <td>8</td>\n",
       "      <td>302.0</td>\n",
       "      <td>140.0</td>\n",
       "      <td>3449.0</td>\n",
       "      <td>10.5</td>\n",
       "      <td>70</td>\n",
       "      <td>1</td>\n",
       "      <td>\"ford torino\"</td>\n",
       "    </tr>\n",
       "  </tbody>\n",
       "</table>\n",
       "</div>"
      ],
      "text/plain": [
       "    Mpg  Cylinders  Displacement Horsepower  Weight  Acceleration  Model year  \\\n",
       "0  18.0          8         307.0      130.0  3504.0          12.0          70   \n",
       "1  15.0          8         350.0      165.0  3693.0          11.5          70   \n",
       "2  18.0          8         318.0      150.0  3436.0          11.0          70   \n",
       "3  16.0          8         304.0      150.0  3433.0          12.0          70   \n",
       "4  17.0          8         302.0      140.0  3449.0          10.5          70   \n",
       "\n",
       "   Origin                     Car name  \n",
       "0       1  \"chevrolet chevelle malibu\"  \n",
       "1       1          \"buick skylark 320\"  \n",
       "2       1         \"plymouth satellite\"  \n",
       "3       1              \"amc rebel sst\"  \n",
       "4       1                \"ford torino\"  "
      ]
     },
     "execution_count": 2,
     "metadata": {},
     "output_type": "execute_result"
    }
   ],
   "source": [
    "#importing data\n",
    "df=pd.read_fwf('https://archive.ics.uci.edu/ml/machine-learning-databases/auto-mpg/auto-mpg.data',header=None)\n",
    "df.columns = [\"Mpg\",\"Cylinders\",\"Displacement\",\"Horsepower\",\"Weight\",\"Acceleration\",\"Model year\",\"Origin\",\"Car name\"]\n",
    "# Displaying first five entries\n",
    "df.head()"
   ]
  },
  {
   "cell_type": "markdown",
   "id": "d6ac3acb",
   "metadata": {},
   "source": [
    "## Missing Values"
   ]
  },
  {
   "cell_type": "markdown",
   "id": "19ed14bd",
   "metadata": {},
   "source": [
    "In this dataset **missing values** are marked as **?** so we're going to replace the \"?\" with NaNs."
   ]
  },
  {
   "cell_type": "code",
   "execution_count": 3,
   "id": "7daee413",
   "metadata": {},
   "outputs": [],
   "source": [
    "import numpy as np\n",
    "\n",
    "# Converting \"?\" to NaNs\n",
    "df = df.replace(\"?\",np.NaN)"
   ]
  },
  {
   "cell_type": "code",
   "execution_count": 4,
   "id": "6f5ebd75",
   "metadata": {},
   "outputs": [
    {
     "data": {
      "text/plain": [
       "Mpg             0\n",
       "Cylinders       0\n",
       "Displacement    0\n",
       "Horsepower      6\n",
       "Weight          0\n",
       "Acceleration    0\n",
       "Model year      0\n",
       "Origin          0\n",
       "Car name        0\n",
       "dtype: int64"
      ]
     },
     "execution_count": 4,
     "metadata": {},
     "output_type": "execute_result"
    }
   ],
   "source": [
    "# Checking the fields which have missing values and the count of missing values in them\n",
    "df.isna().sum()"
   ]
  },
  {
   "cell_type": "markdown",
   "id": "1e41ef52",
   "metadata": {},
   "source": [
    "Above result shows that the column **\"Horsepower\"** have 6 missing values."
   ]
  },
  {
   "cell_type": "code",
   "execution_count": 5,
   "id": "982dd657",
   "metadata": {},
   "outputs": [
    {
     "data": {
      "text/plain": [
       "dtype('float64')"
      ]
     },
     "execution_count": 5,
     "metadata": {},
     "output_type": "execute_result"
    }
   ],
   "source": [
    "# Converting the values of Horsepower column to numeric\n",
    "df[\"Horsepower\"] = pd.to_numeric(df[\"Horsepower\"])\n",
    "df[\"Horsepower\"].dtype"
   ]
  },
  {
   "cell_type": "markdown",
   "id": "24f23926",
   "metadata": {},
   "source": [
    "#### Strategy 1: Given in Tutorial\n",
    "Handling the missing values using the strategy given in tutorial\n",
    "\n",
    "Approach 1: Filling the missing values in Horsepower column by median value"
   ]
  },
  {
   "cell_type": "code",
   "execution_count": 6,
   "id": "f91d0ba3",
   "metadata": {},
   "outputs": [
    {
     "name": "stdout",
     "output_type": "stream",
     "text": [
      "Before filling missing values:\n",
      "\n",
      "30     90.0\n",
      "31     95.0\n",
      "32      NaN\n",
      "33    100.0\n",
      "34    105.0\n",
      "Name: Horsepower, dtype: float64\n",
      "\n",
      "After filling missing values:\n",
      "\n",
      "30     90.0\n",
      "31     95.0\n",
      "32     93.5\n",
      "33    100.0\n",
      "34    105.0\n",
      "Name: Horsepower, dtype: float64\n"
     ]
    }
   ],
   "source": [
    "df_temp = df[\"Horsepower\"]\n",
    "\n",
    "print(\"Before filling missing values:\\n\")\n",
    "print(df_temp[30:35])\n",
    "\n",
    "df_temp = df_temp.fillna(df_temp.median())\n",
    "\n",
    "print(\"\\nAfter filling missing values:\\n\")\n",
    "print(df_temp[30:35])"
   ]
  },
  {
   "cell_type": "markdown",
   "id": "edac0899",
   "metadata": {},
   "source": [
    "Approach 2: Discarding the missing values"
   ]
  },
  {
   "cell_type": "code",
   "execution_count": 7,
   "id": "ed5f5e38",
   "metadata": {},
   "outputs": [
    {
     "name": "stdout",
     "output_type": "stream",
     "text": [
      "\n",
      "Number of rows in original data: 398\n",
      "\n",
      "Number of rows after dropping missing values: 392\n"
     ]
    }
   ],
   "source": [
    "df_temp = df[\"Horsepower\"]\n",
    "\n",
    "print('\\nNumber of rows in original data: %d' %(df.shape[0]))\n",
    "df_temp = df_temp.dropna()\n",
    "print('\\nNumber of rows after dropping missing values: %d' %(df_temp.shape[0]))"
   ]
  },
  {
   "cell_type": "markdown",
   "id": "b3685f90",
   "metadata": {},
   "source": [
    "### Strategy 2: Given on Kaggle tutorial\n",
    "Now we are going to handle missing values using the methods given on the kaggle tutorial: https://www.kaggle.com/alexisbcook/missing-values/tutorial\n",
    "\n",
    "We are directly moving to aproach 2 as approach 1 is already done in previous section\n",
    "\n",
    "Approach 2: Imputing the missing values with the mean value of the column using simple imputor"
   ]
  },
  {
   "cell_type": "code",
   "execution_count": 8,
   "id": "967e91dc",
   "metadata": {},
   "outputs": [
    {
     "name": "stdout",
     "output_type": "stream",
     "text": [
      "\n",
      " before filling missing values:\n",
      "     Mpg  Cylinders  Displacement  Horsepower  Weight  Acceleration  \\\n",
      "30  28.0          4         140.0        90.0  2264.0          15.5   \n",
      "31  25.0          4         113.0        95.0  2228.0          14.0   \n",
      "32  25.0          4          98.0         NaN  2046.0          19.0   \n",
      "33  19.0          6         232.0       100.0  2634.0          13.0   \n",
      "34  16.0          6         225.0       105.0  3439.0          15.5   \n",
      "\n",
      "    Model year  Origin  \n",
      "30          71       1  \n",
      "31          71       3  \n",
      "32          71       1  \n",
      "33          71       1  \n",
      "34          71       1  \n",
      "\n",
      " After filling missing values:\n",
      "     Mpg  Cylinders  Displacement  Horsepower  Weight  Acceleration  \\\n",
      "30  28.0          4         140.0   90.000000  2264.0          15.5   \n",
      "31  25.0          4         113.0   95.000000  2228.0          14.0   \n",
      "32  25.0          4          98.0  104.469388  2046.0          19.0   \n",
      "33  19.0          6         232.0  100.000000  2634.0          13.0   \n",
      "34  16.0          6         225.0  105.000000  3439.0          15.5   \n",
      "\n",
      "    Model year  Origin  \n",
      "30          71       1  \n",
      "31          71       3  \n",
      "32          71       1  \n",
      "33          71       1  \n",
      "34          71       1  \n"
     ]
    }
   ],
   "source": [
    "import sklearn\n",
    "from sklearn.impute import SimpleImputer\n",
    "from sklearn.compose import ColumnTransformer\n",
    "\n",
    "df_temp=df.drop(\"Car name\",axis=1)\n",
    "print(\"\\n before filling missing values:\")\n",
    "print(df_temp[30:35])\n",
    "# df_temp.columns.values\n",
    "\n",
    "#Initialising the imputer\n",
    "myImputer = SimpleImputer(strategy='mean')\n",
    "\n",
    "#Feature which contain missing values\n",
    "numfeatures = [\"Horsepower\"]\n",
    "\n",
    "imputer = ColumnTransformer([(\"myImputer\",myImputer,numfeatures)])\n",
    "\n",
    "filled_df = imputer.fit_transform(df_temp)\n",
    "# filled_df\n",
    "df_temp[\"Horsepower\"] = pd.DataFrame(filled_df,columns=[\"Horsepower\"])\n",
    "print(\"\\n After filling missing values:\")\n",
    "print(df_temp[30:35])"
   ]
  },
  {
   "cell_type": "markdown",
   "id": "97d65198",
   "metadata": {},
   "source": [
    "**Approach 3:** In this approach, we impute the missing values, as before. And, additionally, for each column with missing entries in the original dataset, we add a new column that shows the location of the imputed entries."
   ]
  },
  {
   "cell_type": "code",
   "execution_count": 9,
   "id": "7d70056e",
   "metadata": {},
   "outputs": [
    {
     "name": "stdout",
     "output_type": "stream",
     "text": [
      "\n",
      " before filling missing values:\n",
      "     Mpg  Cylinders  Displacement  Horsepower  Weight  Acceleration  \\\n",
      "30  28.0          4         140.0        90.0  2264.0          15.5   \n",
      "31  25.0          4         113.0        95.0  2228.0          14.0   \n",
      "32  25.0          4          98.0         NaN  2046.0          19.0   \n",
      "33  19.0          6         232.0       100.0  2634.0          13.0   \n",
      "34  16.0          6         225.0       105.0  3439.0          15.5   \n",
      "\n",
      "    Model year  Origin  Horsepower_was_missing  \n",
      "30          71       1                   False  \n",
      "31          71       3                   False  \n",
      "32          71       1                    True  \n",
      "33          71       1                   False  \n",
      "34          71       1                   False  \n",
      "\n",
      " After filling missing values:\n",
      "     Mpg  Cylinders  Displacement  Horsepower  Weight  Acceleration  \\\n",
      "30  28.0          4         140.0   90.000000  2264.0          15.5   \n",
      "31  25.0          4         113.0   95.000000  2228.0          14.0   \n",
      "32  25.0          4          98.0  104.469388  2046.0          19.0   \n",
      "33  19.0          6         232.0  100.000000  2634.0          13.0   \n",
      "34  16.0          6         225.0  105.000000  3439.0          15.5   \n",
      "\n",
      "    Model year  Origin  Horsepower_was_missing  \n",
      "30          71       1                   False  \n",
      "31          71       3                   False  \n",
      "32          71       1                    True  \n",
      "33          71       1                   False  \n",
      "34          71       1                   False  \n"
     ]
    }
   ],
   "source": [
    "# Taking fresh data with missing values\n",
    "df_temp=df.drop(\"Car name\",axis=1)\n",
    "\n",
    "# Adding a was_missing column if the column contains missing values\n",
    "for label,content in df_temp.items():\n",
    "    if pd.isna(content).sum():\n",
    "        df_temp[label+\"_was_missing\"] = pd.isna(content)\n",
    "\n",
    "print(\"\\n before filling missing values:\")\n",
    "print(df_temp[30:35])\n",
    "# df_temp.columns.values\n",
    "\n",
    "#Initialising the imputer\n",
    "myImputer = SimpleImputer(strategy='mean')\n",
    "\n",
    "#Feature which contain missing values\n",
    "numfeatures = [\"Horsepower\"]\n",
    "\n",
    "imputer = ColumnTransformer([(\"myImputer\",myImputer,numfeatures)])\n",
    "\n",
    "filled_df = imputer.fit_transform(df_temp)\n",
    "# filled_df\n",
    "df_temp[\"Horsepower\"] = pd.DataFrame(filled_df,columns=[\"Horsepower\"])\n",
    "print(\"\\n After filling missing values:\")\n",
    "print(df_temp[30:35])"
   ]
  },
  {
   "cell_type": "markdown",
   "id": "91b13308",
   "metadata": {},
   "source": [
    "### Using Scikit-learn\n",
    "\n",
    "#### Nearest neighbors imputation"
   ]
  },
  {
   "cell_type": "code",
   "execution_count": 10,
   "id": "a0ea3c64",
   "metadata": {},
   "outputs": [
    {
     "name": "stdout",
     "output_type": "stream",
     "text": [
      "\n",
      " before filling missing values:\n",
      "     Mpg  Cylinders  Displacement  Horsepower  Weight  Acceleration  \\\n",
      "30  28.0          4         140.0        90.0  2264.0          15.5   \n",
      "31  25.0          4         113.0        95.0  2228.0          14.0   \n",
      "32  25.0          4          98.0         NaN  2046.0          19.0   \n",
      "33  19.0          6         232.0       100.0  2634.0          13.0   \n",
      "34  16.0          6         225.0       105.0  3439.0          15.5   \n",
      "\n",
      "    Model year  Origin  \n",
      "30          71       1  \n",
      "31          71       3  \n",
      "32          71       1  \n",
      "33          71       1  \n",
      "34          71       1  \n",
      "\n",
      " After filling missing values:\n",
      "     Mpg  Cylinders  Displacement  Horsepower  Weight  Acceleration  \\\n",
      "30  28.0        4.0         140.0        90.0  2264.0          15.5   \n",
      "31  25.0        4.0         113.0        95.0  2228.0          14.0   \n",
      "32  25.0        4.0          98.0        65.5  2046.0          19.0   \n",
      "33  19.0        6.0         232.0       100.0  2634.0          13.0   \n",
      "34  16.0        6.0         225.0       105.0  3439.0          15.5   \n",
      "\n",
      "    Model year  Origin  \n",
      "30        71.0     1.0  \n",
      "31        71.0     3.0  \n",
      "32        71.0     1.0  \n",
      "33        71.0     1.0  \n",
      "34        71.0     1.0  \n"
     ]
    }
   ],
   "source": [
    "from sklearn.impute import KNNImputer\n",
    "\n",
    "np.random.seed(42)\n",
    "\n",
    "df_temp=df.drop(\"Car name\",axis=1)\n",
    "print(\"\\n before filling missing values:\")\n",
    "print(df_temp[30:35])\n",
    "\n",
    "# Initialising the KNNImputer\n",
    "imputer = KNNImputer(n_neighbors=2,weights=\"uniform\")\n",
    "# Fitting the model\n",
    "df_transformed = imputer.fit_transform(df_temp)\n",
    "\n",
    "df_temp = pd.DataFrame(df_transformed,columns=df_temp.columns.values)\n",
    "print(\"\\n After filling missing values:\")\n",
    "print(df_temp[30:35])"
   ]
  },
  {
   "cell_type": "markdown",
   "id": "660de5f0",
   "metadata": {},
   "source": [
    "### Strandization and Normalization\n",
    "\n",
    "#### A. Strategy given in Tutorial"
   ]
  },
  {
   "cell_type": "markdown",
   "id": "6fc75265",
   "metadata": {},
   "source": [
    "**Outliers**"
   ]
  },
  {
   "cell_type": "code",
   "execution_count": 11,
   "id": "cbc1a611",
   "metadata": {},
   "outputs": [
    {
     "data": {
      "text/plain": [
       "<AxesSubplot:>"
      ]
     },
     "execution_count": 11,
     "metadata": {},
     "output_type": "execute_result"
    },
    {
     "data": {
      "image/png": "[encoded data removed]",
      "text/plain": [
       "<Figure size 1440x720 with 1 Axes>"
      ]
     },
     "metadata": {
      "needs_background": "light"
     },
     "output_type": "display_data"
    }
   ],
   "source": [
    "import matplotlib\n",
    "%matplotlib inline\n",
    "\n",
    "df_temp2 = df_temp.drop(\"Weight\",axis=1)\n",
    "df_temp2.boxplot(figsize=(20,10))"
   ]
  },
  {
   "cell_type": "markdown",
   "id": "3c314fc2",
   "metadata": {},
   "source": [
    "The boxplot suggest that only 3 fields(MPG, Horsepower and acceleration) contain abnormally high values. So we're going to calculate the Z-score of each attribute and remove those instances with abnormally high and low Z-scores."
   ]
  },
  {
   "cell_type": "code",
   "execution_count": 12,
   "id": "8e45a5a1",
   "metadata": {},
   "outputs": [
    {
     "data": {
      "text/html": [
       "<div>\n",
       "<style scoped>\n",
       "    .dataframe tbody tr th:only-of-type {\n",
       "        vertical-align: middle;\n",
       "    }\n",
       "\n",
       "    .dataframe tbody tr th {\n",
       "        vertical-align: top;\n",
       "    }\n",
       "\n",
       "    .dataframe thead th {\n",
       "        text-align: right;\n",
       "    }\n",
       "</style>\n",
       "<table border=\"1\" class=\"dataframe\">\n",
       "  <thead>\n",
       "    <tr style=\"text-align: right;\">\n",
       "      <th></th>\n",
       "      <th>Mpg</th>\n",
       "      <th>Cylinders</th>\n",
       "      <th>Displacement</th>\n",
       "      <th>Horsepower</th>\n",
       "      <th>Acceleration</th>\n",
       "      <th>Model year</th>\n",
       "      <th>Origin</th>\n",
       "    </tr>\n",
       "  </thead>\n",
       "  <tbody>\n",
       "    <tr>\n",
       "      <th>20</th>\n",
       "      <td>0.190050</td>\n",
       "      <td>-0.855244</td>\n",
       "      <td>-0.800096</td>\n",
       "      <td>-0.445236</td>\n",
       "      <td>0.700554</td>\n",
       "      <td>-1.625381</td>\n",
       "      <td>0.532552</td>\n",
       "    </tr>\n",
       "    <tr>\n",
       "      <th>21</th>\n",
       "      <td>0.062107</td>\n",
       "      <td>-0.855244</td>\n",
       "      <td>-0.828867</td>\n",
       "      <td>-0.367075</td>\n",
       "      <td>-0.387314</td>\n",
       "      <td>-1.625381</td>\n",
       "      <td>0.532552</td>\n",
       "    </tr>\n",
       "    <tr>\n",
       "      <th>22</th>\n",
       "      <td>0.190050</td>\n",
       "      <td>-0.855244</td>\n",
       "      <td>-0.857639</td>\n",
       "      <td>-0.236807</td>\n",
       "      <td>0.700554</td>\n",
       "      <td>-1.625381</td>\n",
       "      <td>0.532552</td>\n",
       "    </tr>\n",
       "    <tr>\n",
       "      <th>23</th>\n",
       "      <td>0.317993</td>\n",
       "      <td>-0.855244</td>\n",
       "      <td>-0.694600</td>\n",
       "      <td>0.232159</td>\n",
       "      <td>-1.112559</td>\n",
       "      <td>-1.625381</td>\n",
       "      <td>0.532552</td>\n",
       "    </tr>\n",
       "    <tr>\n",
       "      <th>24</th>\n",
       "      <td>-0.321722</td>\n",
       "      <td>0.320532</td>\n",
       "      <td>0.053459</td>\n",
       "      <td>-0.367075</td>\n",
       "      <td>-0.206002</td>\n",
       "      <td>-1.625381</td>\n",
       "      <td>-0.714246</td>\n",
       "    </tr>\n",
       "  </tbody>\n",
       "</table>\n",
       "</div>"
      ],
      "text/plain": [
       "         Mpg  Cylinders  Displacement  Horsepower  Acceleration  Model year  \\\n",
       "20  0.190050  -0.855244     -0.800096   -0.445236      0.700554   -1.625381   \n",
       "21  0.062107  -0.855244     -0.828867   -0.367075     -0.387314   -1.625381   \n",
       "22  0.190050  -0.855244     -0.857639   -0.236807      0.700554   -1.625381   \n",
       "23  0.317993  -0.855244     -0.694600    0.232159     -1.112559   -1.625381   \n",
       "24 -0.321722   0.320532      0.053459   -0.367075     -0.206002   -1.625381   \n",
       "\n",
       "      Origin  \n",
       "20  0.532552  \n",
       "21  0.532552  \n",
       "22  0.532552  \n",
       "23  0.532552  \n",
       "24 -0.714246  "
      ]
     },
     "execution_count": 12,
     "metadata": {},
     "output_type": "execute_result"
    }
   ],
   "source": [
    "Z = (df_temp2-df_temp2.mean())/df_temp2.std()\n",
    "Z[20:25]"
   ]
  },
  {
   "cell_type": "code",
   "execution_count": 13,
   "id": "6d74ae99",
   "metadata": {},
   "outputs": [
    {
     "name": "stdout",
     "output_type": "stream",
     "text": [
      "Number of rows before discarding outliers = 398\n",
      "Number of rows after discarding missing values = 391\n"
     ]
    }
   ],
   "source": [
    "print('Number of rows before discarding outliers = %d' % (Z.shape[0]))\n",
    "\n",
    "#Discarding the instances with Z-score<=-1 and Z-score>=3\n",
    "z2 = Z.loc[((Z>-3).sum(axis=1)==7) & ((Z<3).sum(axis=1)==7),:]\n",
    "\n",
    "print('Number of rows after discarding missing values = %d' % (z2.shape[0]))"
   ]
  },
  {
   "cell_type": "markdown",
   "id": "92589c36",
   "metadata": {},
   "source": [
    "### B. Using Scikit-learn\n",
    "**Mapping to a Uniform distribution**\n",
    "\n",
    "`QuantileTransformer` provides a non-parametric transformation to map the data to a uniform distribution with values between 0 and 1:"
   ]
  },
  {
   "cell_type": "code",
   "execution_count": 14,
   "id": "c2a827ff",
   "metadata": {
    "scrolled": true
   },
   "outputs": [
    {
     "name": "stdout",
     "output_type": "stream",
     "text": [
      "\n",
      "Before Transformation:\n",
      "     Mpg  Cylinders  Displacement  Horsepower  Weight  Acceleration  \\\n",
      "30  28.0        4.0         140.0        90.0  2264.0          15.5   \n",
      "31  25.0        4.0         113.0        95.0  2228.0          14.0   \n",
      "32  25.0        4.0          98.0        65.5  2046.0          19.0   \n",
      "33  19.0        6.0         232.0       100.0  2634.0          13.0   \n",
      "34  16.0        6.0         225.0       105.0  3439.0          15.5   \n",
      "\n",
      "    Model year  Origin  \n",
      "30        71.0     1.0  \n",
      "31        71.0     3.0  \n",
      "32        71.0     1.0  \n",
      "33        71.0     1.0  \n",
      "34        71.0     1.0  \n",
      "\n",
      "After Transformation:\n",
      "         Mpg  Cylinders  Displacement  Horsepower    Weight  Acceleration  \\\n",
      "30  0.714286   0.265306      0.459184    0.459184  0.274476      0.510204   \n",
      "31  0.591837   0.265306      0.311224    0.520408  0.250604      0.275510   \n",
      "32  0.591837   0.265306      0.214286    0.088389  0.125586      0.887755   \n",
      "33  0.346939   0.642857      0.673469    0.602041  0.428095      0.163265   \n",
      "34  0.204082   0.642857      0.622449    0.642857  0.714575      0.510204   \n",
      "\n",
      "    Model year  Origin  \n",
      "30    0.102041     0.0  \n",
      "31    0.102041     1.0  \n",
      "32    0.102041     0.0  \n",
      "33    0.102041     0.0  \n",
      "34    0.102041     0.0  \n"
     ]
    }
   ],
   "source": [
    "from sklearn.preprocessing import QuantileTransformer\n",
    "\n",
    "print(\"\\nBefore Transformation:\")\n",
    "print(df_temp[30:35])\n",
    "\n",
    "# Instantiating the model\n",
    "quantileTransformer = QuantileTransformer(random_state=42,n_quantiles=50)\n",
    "\n",
    "# Fitting the model\n",
    "df_transformed = quantileTransformer.fit_transform(df_temp)\n",
    "\n",
    "df_temp2 = pd.DataFrame(df_transformed,columns=df_temp.columns.values)\n",
    "print(\"\\nAfter Transformation:\")\n",
    "print(df_temp2[30:35])"
   ]
  },
  {
   "cell_type": "markdown",
   "id": "9f9e678c",
   "metadata": {},
   "source": [
    "### Discretization\n"
   ]
  },
  {
   "cell_type": "code",
   "execution_count": 15,
   "id": "06bcc872",
   "metadata": {},
   "outputs": [
    {
     "data": {
      "text/plain": [
       "70.0    29\n",
       "71.0    28\n",
       "72.0    28\n",
       "73.0    40\n",
       "74.0    27\n",
       "75.0    30\n",
       "76.0    34\n",
       "77.0    28\n",
       "78.0    36\n",
       "79.0    29\n",
       "80.0    29\n",
       "81.0    29\n",
       "82.0    31\n",
       "Name: Model year, dtype: int64"
      ]
     },
     "execution_count": 15,
     "metadata": {},
     "output_type": "execute_result"
    },
    {
     "data": {
      "image/png": "[encoded data removed]",
      "text/plain": [
       "<Figure size 432x288 with 1 Axes>"
      ]
     },
     "metadata": {
      "needs_background": "light"
     },
     "output_type": "display_data"
    }
   ],
   "source": [
    "# Plotting the histogram to see the distribution of Model Year\n",
    "df_temp[\"Model year\"].hist(bins=10)\n",
    "df_temp[\"Model year\"].value_counts(sort=False)"
   ]
  },
  {
   "cell_type": "markdown",
   "id": "db98703d",
   "metadata": {},
   "source": [
    "First we are going to divide model year in 5 intervals."
   ]
  },
  {
   "cell_type": "code",
   "execution_count": 16,
   "id": "f072de40",
   "metadata": {},
   "outputs": [
    {
     "data": {
      "text/plain": [
       "(69.988, 72.4]    85\n",
       "(72.4, 74.8]      67\n",
       "(74.8, 77.2]      92\n",
       "(77.2, 79.6]      65\n",
       "(79.6, 82.0]      89\n",
       "Name: Model year, dtype: int64"
      ]
     },
     "execution_count": 16,
     "metadata": {},
     "output_type": "execute_result"
    }
   ],
   "source": [
    "bins = pd.cut(df_temp[\"Model year\"],5)\n",
    "bins.value_counts(sort=False)"
   ]
  },
  {
   "cell_type": "markdown",
   "id": "93ee93ff",
   "metadata": {},
   "source": [
    "To divide the model year attribute in equal frequency intervals we are going to use `qcut` method"
   ]
  },
  {
   "cell_type": "code",
   "execution_count": 17,
   "id": "e555318b",
   "metadata": {},
   "outputs": [
    {
     "data": {
      "text/plain": [
       "(69.999, 72.0]    85\n",
       "(72.0, 75.0]      97\n",
       "(75.0, 77.0]      62\n",
       "(77.0, 80.0]      94\n",
       "(80.0, 82.0]      60\n",
       "Name: Model year, dtype: int64"
      ]
     },
     "execution_count": 17,
     "metadata": {},
     "output_type": "execute_result"
    }
   ],
   "source": [
    "bins = pd.qcut(df_temp[\"Model year\"],5)\n",
    "bins.value_counts(sort=False)"
   ]
  },
  {
   "cell_type": "markdown",
   "id": "11ae6010",
   "metadata": {},
   "source": [
    "#### Using Scikit-Learn\n",
    "We are going to use `KBinsDiscretizer`"
   ]
  },
  {
   "cell_type": "code",
   "execution_count": 18,
   "id": "9f686e3f",
   "metadata": {},
   "outputs": [
    {
     "data": {
      "text/plain": [
       "0.0    107\n",
       "1.0     89\n",
       "2.0     31\n",
       "3.0     13\n",
       "4.0     57\n",
       "5.0      3\n",
       "6.0     42\n",
       "7.0     31\n",
       "8.0     16\n",
       "9.0      9\n",
       "dtype: int64"
      ]
     },
     "execution_count": 18,
     "metadata": {},
     "output_type": "execute_result"
    }
   ],
   "source": [
    "# Importing KBinsDiscretizer\n",
    "from sklearn.preprocessing import KBinsDiscretizer\n",
    "\n",
    "# establishing random seed\n",
    "np.random.seed(42)\n",
    "\n",
    "# Instantiating the model\n",
    "enc = KBinsDiscretizer(n_bins=10,strategy=\"uniform\",encode=\"ordinal\")\n",
    "\n",
    "# Transforming the Displacement column\n",
    "data_temp = df_temp[\"Displacement\"].to_numpy().reshape(len(df_temp[\"Displacement\"]),1)\n",
    "transformed = enc.fit_transform(data_temp)\n",
    "data_temp = pd.DataFrame(transformed)\n",
    "data_temp.value_counts(sort=False)"
   ]
  },
  {
   "cell_type": "markdown",
   "id": "8d30e2ed",
   "metadata": {},
   "source": [
    "### Sampling\n",
    "First we are going to randomly select a sample of size 5(without replacement) from the original data "
   ]
  },
  {
   "cell_type": "code",
   "execution_count": 19,
   "id": "fd14ad99",
   "metadata": {},
   "outputs": [
    {
     "data": {
      "text/html": [
       "<div>\n",
       "<style scoped>\n",
       "    .dataframe tbody tr th:only-of-type {\n",
       "        vertical-align: middle;\n",
       "    }\n",
       "\n",
       "    .dataframe tbody tr th {\n",
       "        vertical-align: top;\n",
       "    }\n",
       "\n",
       "    .dataframe thead th {\n",
       "        text-align: right;\n",
       "    }\n",
       "</style>\n",
       "<table border=\"1\" class=\"dataframe\">\n",
       "  <thead>\n",
       "    <tr style=\"text-align: right;\">\n",
       "      <th></th>\n",
       "      <th>Mpg</th>\n",
       "      <th>Cylinders</th>\n",
       "      <th>Displacement</th>\n",
       "      <th>Horsepower</th>\n",
       "      <th>Weight</th>\n",
       "      <th>Acceleration</th>\n",
       "      <th>Model year</th>\n",
       "      <th>Origin</th>\n",
       "    </tr>\n",
       "  </thead>\n",
       "  <tbody>\n",
       "    <tr>\n",
       "      <th>0</th>\n",
       "      <td>18.0</td>\n",
       "      <td>8.0</td>\n",
       "      <td>307.0</td>\n",
       "      <td>130.0</td>\n",
       "      <td>3504.0</td>\n",
       "      <td>12.0</td>\n",
       "      <td>70.0</td>\n",
       "      <td>1.0</td>\n",
       "    </tr>\n",
       "    <tr>\n",
       "      <th>1</th>\n",
       "      <td>15.0</td>\n",
       "      <td>8.0</td>\n",
       "      <td>350.0</td>\n",
       "      <td>165.0</td>\n",
       "      <td>3693.0</td>\n",
       "      <td>11.5</td>\n",
       "      <td>70.0</td>\n",
       "      <td>1.0</td>\n",
       "    </tr>\n",
       "    <tr>\n",
       "      <th>2</th>\n",
       "      <td>18.0</td>\n",
       "      <td>8.0</td>\n",
       "      <td>318.0</td>\n",
       "      <td>150.0</td>\n",
       "      <td>3436.0</td>\n",
       "      <td>11.0</td>\n",
       "      <td>70.0</td>\n",
       "      <td>1.0</td>\n",
       "    </tr>\n",
       "    <tr>\n",
       "      <th>3</th>\n",
       "      <td>16.0</td>\n",
       "      <td>8.0</td>\n",
       "      <td>304.0</td>\n",
       "      <td>150.0</td>\n",
       "      <td>3433.0</td>\n",
       "      <td>12.0</td>\n",
       "      <td>70.0</td>\n",
       "      <td>1.0</td>\n",
       "    </tr>\n",
       "    <tr>\n",
       "      <th>4</th>\n",
       "      <td>17.0</td>\n",
       "      <td>8.0</td>\n",
       "      <td>302.0</td>\n",
       "      <td>140.0</td>\n",
       "      <td>3449.0</td>\n",
       "      <td>10.5</td>\n",
       "      <td>70.0</td>\n",
       "      <td>1.0</td>\n",
       "    </tr>\n",
       "  </tbody>\n",
       "</table>\n",
       "</div>"
      ],
      "text/plain": [
       "    Mpg  Cylinders  Displacement  Horsepower  Weight  Acceleration  \\\n",
       "0  18.0        8.0         307.0       130.0  3504.0          12.0   \n",
       "1  15.0        8.0         350.0       165.0  3693.0          11.5   \n",
       "2  18.0        8.0         318.0       150.0  3436.0          11.0   \n",
       "3  16.0        8.0         304.0       150.0  3433.0          12.0   \n",
       "4  17.0        8.0         302.0       140.0  3449.0          10.5   \n",
       "\n",
       "   Model year  Origin  \n",
       "0        70.0     1.0  \n",
       "1        70.0     1.0  \n",
       "2        70.0     1.0  \n",
       "3        70.0     1.0  \n",
       "4        70.0     1.0  "
      ]
     },
     "execution_count": 19,
     "metadata": {},
     "output_type": "execute_result"
    }
   ],
   "source": [
    "df_temp.head()"
   ]
  },
  {
   "cell_type": "code",
   "execution_count": 20,
   "id": "ba8d79da",
   "metadata": {},
   "outputs": [
    {
     "data": {
      "text/html": [
       "<div>\n",
       "<style scoped>\n",
       "    .dataframe tbody tr th:only-of-type {\n",
       "        vertical-align: middle;\n",
       "    }\n",
       "\n",
       "    .dataframe tbody tr th {\n",
       "        vertical-align: top;\n",
       "    }\n",
       "\n",
       "    .dataframe thead th {\n",
       "        text-align: right;\n",
       "    }\n",
       "</style>\n",
       "<table border=\"1\" class=\"dataframe\">\n",
       "  <thead>\n",
       "    <tr style=\"text-align: right;\">\n",
       "      <th></th>\n",
       "      <th>Mpg</th>\n",
       "      <th>Cylinders</th>\n",
       "      <th>Displacement</th>\n",
       "      <th>Horsepower</th>\n",
       "      <th>Weight</th>\n",
       "      <th>Acceleration</th>\n",
       "      <th>Model year</th>\n",
       "      <th>Origin</th>\n",
       "    </tr>\n",
       "  </thead>\n",
       "  <tbody>\n",
       "    <tr>\n",
       "      <th>198</th>\n",
       "      <td>33.0</td>\n",
       "      <td>4.0</td>\n",
       "      <td>91.0</td>\n",
       "      <td>53.0</td>\n",
       "      <td>1795.0</td>\n",
       "      <td>17.4</td>\n",
       "      <td>76.0</td>\n",
       "      <td>3.0</td>\n",
       "    </tr>\n",
       "    <tr>\n",
       "      <th>396</th>\n",
       "      <td>28.0</td>\n",
       "      <td>4.0</td>\n",
       "      <td>120.0</td>\n",
       "      <td>79.0</td>\n",
       "      <td>2625.0</td>\n",
       "      <td>18.6</td>\n",
       "      <td>82.0</td>\n",
       "      <td>1.0</td>\n",
       "    </tr>\n",
       "    <tr>\n",
       "      <th>33</th>\n",
       "      <td>19.0</td>\n",
       "      <td>6.0</td>\n",
       "      <td>232.0</td>\n",
       "      <td>100.0</td>\n",
       "      <td>2634.0</td>\n",
       "      <td>13.0</td>\n",
       "      <td>71.0</td>\n",
       "      <td>1.0</td>\n",
       "    </tr>\n",
       "    <tr>\n",
       "      <th>208</th>\n",
       "      <td>13.0</td>\n",
       "      <td>8.0</td>\n",
       "      <td>318.0</td>\n",
       "      <td>150.0</td>\n",
       "      <td>3940.0</td>\n",
       "      <td>13.2</td>\n",
       "      <td>76.0</td>\n",
       "      <td>1.0</td>\n",
       "    </tr>\n",
       "    <tr>\n",
       "      <th>93</th>\n",
       "      <td>14.0</td>\n",
       "      <td>8.0</td>\n",
       "      <td>318.0</td>\n",
       "      <td>150.0</td>\n",
       "      <td>4237.0</td>\n",
       "      <td>14.5</td>\n",
       "      <td>73.0</td>\n",
       "      <td>1.0</td>\n",
       "    </tr>\n",
       "  </tbody>\n",
       "</table>\n",
       "</div>"
      ],
      "text/plain": [
       "      Mpg  Cylinders  Displacement  Horsepower  Weight  Acceleration  \\\n",
       "198  33.0        4.0          91.0        53.0  1795.0          17.4   \n",
       "396  28.0        4.0         120.0        79.0  2625.0          18.6   \n",
       "33   19.0        6.0         232.0       100.0  2634.0          13.0   \n",
       "208  13.0        8.0         318.0       150.0  3940.0          13.2   \n",
       "93   14.0        8.0         318.0       150.0  4237.0          14.5   \n",
       "\n",
       "     Model year  Origin  \n",
       "198        76.0     3.0  \n",
       "396        82.0     1.0  \n",
       "33         71.0     1.0  \n",
       "208        76.0     1.0  \n",
       "93         73.0     1.0  "
      ]
     },
     "execution_count": 20,
     "metadata": {},
     "output_type": "execute_result"
    }
   ],
   "source": [
    "sample_data = df_temp.sample(n=5)\n",
    "sample_data"
   ]
  },
  {
   "cell_type": "markdown",
   "id": "6ae377be",
   "metadata": {},
   "source": [
    "We are going to select 5 percent of data with replacement from the original data"
   ]
  },
  {
   "cell_type": "code",
   "execution_count": 21,
   "id": "f82f572e",
   "metadata": {},
   "outputs": [
    {
     "data": {
      "text/html": [
       "<div>\n",
       "<style scoped>\n",
       "    .dataframe tbody tr th:only-of-type {\n",
       "        vertical-align: middle;\n",
       "    }\n",
       "\n",
       "    .dataframe tbody tr th {\n",
       "        vertical-align: top;\n",
       "    }\n",
       "\n",
       "    .dataframe thead th {\n",
       "        text-align: right;\n",
       "    }\n",
       "</style>\n",
       "<table border=\"1\" class=\"dataframe\">\n",
       "  <thead>\n",
       "    <tr style=\"text-align: right;\">\n",
       "      <th></th>\n",
       "      <th>Mpg</th>\n",
       "      <th>Cylinders</th>\n",
       "      <th>Displacement</th>\n",
       "      <th>Horsepower</th>\n",
       "      <th>Weight</th>\n",
       "      <th>Acceleration</th>\n",
       "      <th>Model year</th>\n",
       "      <th>Origin</th>\n",
       "    </tr>\n",
       "  </thead>\n",
       "  <tbody>\n",
       "    <tr>\n",
       "      <th>102</th>\n",
       "      <td>26.0</td>\n",
       "      <td>4.0</td>\n",
       "      <td>97.0</td>\n",
       "      <td>46.0</td>\n",
       "      <td>1950.0</td>\n",
       "      <td>21.0</td>\n",
       "      <td>73.0</td>\n",
       "      <td>2.0</td>\n",
       "    </tr>\n",
       "    <tr>\n",
       "      <th>348</th>\n",
       "      <td>37.7</td>\n",
       "      <td>4.0</td>\n",
       "      <td>89.0</td>\n",
       "      <td>62.0</td>\n",
       "      <td>2050.0</td>\n",
       "      <td>17.3</td>\n",
       "      <td>81.0</td>\n",
       "      <td>3.0</td>\n",
       "    </tr>\n",
       "    <tr>\n",
       "      <th>270</th>\n",
       "      <td>21.1</td>\n",
       "      <td>4.0</td>\n",
       "      <td>134.0</td>\n",
       "      <td>95.0</td>\n",
       "      <td>2515.0</td>\n",
       "      <td>14.8</td>\n",
       "      <td>78.0</td>\n",
       "      <td>3.0</td>\n",
       "    </tr>\n",
       "    <tr>\n",
       "      <th>106</th>\n",
       "      <td>12.0</td>\n",
       "      <td>8.0</td>\n",
       "      <td>350.0</td>\n",
       "      <td>180.0</td>\n",
       "      <td>4499.0</td>\n",
       "      <td>12.5</td>\n",
       "      <td>73.0</td>\n",
       "      <td>1.0</td>\n",
       "    </tr>\n",
       "    <tr>\n",
       "      <th>71</th>\n",
       "      <td>19.0</td>\n",
       "      <td>3.0</td>\n",
       "      <td>70.0</td>\n",
       "      <td>97.0</td>\n",
       "      <td>2330.0</td>\n",
       "      <td>13.5</td>\n",
       "      <td>72.0</td>\n",
       "      <td>3.0</td>\n",
       "    </tr>\n",
       "    <tr>\n",
       "      <th>188</th>\n",
       "      <td>16.0</td>\n",
       "      <td>8.0</td>\n",
       "      <td>318.0</td>\n",
       "      <td>150.0</td>\n",
       "      <td>4190.0</td>\n",
       "      <td>13.0</td>\n",
       "      <td>76.0</td>\n",
       "      <td>1.0</td>\n",
       "    </tr>\n",
       "    <tr>\n",
       "      <th>20</th>\n",
       "      <td>25.0</td>\n",
       "      <td>4.0</td>\n",
       "      <td>110.0</td>\n",
       "      <td>87.0</td>\n",
       "      <td>2672.0</td>\n",
       "      <td>17.5</td>\n",
       "      <td>70.0</td>\n",
       "      <td>2.0</td>\n",
       "    </tr>\n",
       "    <tr>\n",
       "      <th>102</th>\n",
       "      <td>26.0</td>\n",
       "      <td>4.0</td>\n",
       "      <td>97.0</td>\n",
       "      <td>46.0</td>\n",
       "      <td>1950.0</td>\n",
       "      <td>21.0</td>\n",
       "      <td>73.0</td>\n",
       "      <td>2.0</td>\n",
       "    </tr>\n",
       "    <tr>\n",
       "      <th>121</th>\n",
       "      <td>15.0</td>\n",
       "      <td>8.0</td>\n",
       "      <td>318.0</td>\n",
       "      <td>150.0</td>\n",
       "      <td>3399.0</td>\n",
       "      <td>11.0</td>\n",
       "      <td>73.0</td>\n",
       "      <td>1.0</td>\n",
       "    </tr>\n",
       "    <tr>\n",
       "      <th>214</th>\n",
       "      <td>13.0</td>\n",
       "      <td>8.0</td>\n",
       "      <td>302.0</td>\n",
       "      <td>130.0</td>\n",
       "      <td>3870.0</td>\n",
       "      <td>15.0</td>\n",
       "      <td>76.0</td>\n",
       "      <td>1.0</td>\n",
       "    </tr>\n",
       "    <tr>\n",
       "      <th>330</th>\n",
       "      <td>40.9</td>\n",
       "      <td>4.0</td>\n",
       "      <td>85.0</td>\n",
       "      <td>60.0</td>\n",
       "      <td>1835.0</td>\n",
       "      <td>17.3</td>\n",
       "      <td>80.0</td>\n",
       "      <td>2.0</td>\n",
       "    </tr>\n",
       "    <tr>\n",
       "      <th>87</th>\n",
       "      <td>13.0</td>\n",
       "      <td>8.0</td>\n",
       "      <td>350.0</td>\n",
       "      <td>145.0</td>\n",
       "      <td>3988.0</td>\n",
       "      <td>13.0</td>\n",
       "      <td>73.0</td>\n",
       "      <td>1.0</td>\n",
       "    </tr>\n",
       "    <tr>\n",
       "      <th>372</th>\n",
       "      <td>27.0</td>\n",
       "      <td>4.0</td>\n",
       "      <td>151.0</td>\n",
       "      <td>90.0</td>\n",
       "      <td>2735.0</td>\n",
       "      <td>18.0</td>\n",
       "      <td>82.0</td>\n",
       "      <td>1.0</td>\n",
       "    </tr>\n",
       "    <tr>\n",
       "      <th>99</th>\n",
       "      <td>18.0</td>\n",
       "      <td>6.0</td>\n",
       "      <td>232.0</td>\n",
       "      <td>100.0</td>\n",
       "      <td>2945.0</td>\n",
       "      <td>16.0</td>\n",
       "      <td>73.0</td>\n",
       "      <td>1.0</td>\n",
       "    </tr>\n",
       "    <tr>\n",
       "      <th>359</th>\n",
       "      <td>28.1</td>\n",
       "      <td>4.0</td>\n",
       "      <td>141.0</td>\n",
       "      <td>80.0</td>\n",
       "      <td>3230.0</td>\n",
       "      <td>20.4</td>\n",
       "      <td>81.0</td>\n",
       "      <td>2.0</td>\n",
       "    </tr>\n",
       "    <tr>\n",
       "      <th>151</th>\n",
       "      <td>31.0</td>\n",
       "      <td>4.0</td>\n",
       "      <td>79.0</td>\n",
       "      <td>67.0</td>\n",
       "      <td>2000.0</td>\n",
       "      <td>16.0</td>\n",
       "      <td>74.0</td>\n",
       "      <td>2.0</td>\n",
       "    </tr>\n",
       "    <tr>\n",
       "      <th>130</th>\n",
       "      <td>26.0</td>\n",
       "      <td>4.0</td>\n",
       "      <td>122.0</td>\n",
       "      <td>80.0</td>\n",
       "      <td>2451.0</td>\n",
       "      <td>16.5</td>\n",
       "      <td>74.0</td>\n",
       "      <td>1.0</td>\n",
       "    </tr>\n",
       "    <tr>\n",
       "      <th>149</th>\n",
       "      <td>24.0</td>\n",
       "      <td>4.0</td>\n",
       "      <td>120.0</td>\n",
       "      <td>97.0</td>\n",
       "      <td>2489.0</td>\n",
       "      <td>15.0</td>\n",
       "      <td>74.0</td>\n",
       "      <td>3.0</td>\n",
       "    </tr>\n",
       "    <tr>\n",
       "      <th>308</th>\n",
       "      <td>33.5</td>\n",
       "      <td>4.0</td>\n",
       "      <td>151.0</td>\n",
       "      <td>90.0</td>\n",
       "      <td>2556.0</td>\n",
       "      <td>13.2</td>\n",
       "      <td>79.0</td>\n",
       "      <td>1.0</td>\n",
       "    </tr>\n",
       "    <tr>\n",
       "      <th>257</th>\n",
       "      <td>19.4</td>\n",
       "      <td>6.0</td>\n",
       "      <td>232.0</td>\n",
       "      <td>90.0</td>\n",
       "      <td>3210.0</td>\n",
       "      <td>17.2</td>\n",
       "      <td>78.0</td>\n",
       "      <td>1.0</td>\n",
       "    </tr>\n",
       "  </tbody>\n",
       "</table>\n",
       "</div>"
      ],
      "text/plain": [
       "      Mpg  Cylinders  Displacement  Horsepower  Weight  Acceleration  \\\n",
       "102  26.0        4.0          97.0        46.0  1950.0          21.0   \n",
       "348  37.7        4.0          89.0        62.0  2050.0          17.3   \n",
       "270  21.1        4.0         134.0        95.0  2515.0          14.8   \n",
       "106  12.0        8.0         350.0       180.0  4499.0          12.5   \n",
       "71   19.0        3.0          70.0        97.0  2330.0          13.5   \n",
       "188  16.0        8.0         318.0       150.0  4190.0          13.0   \n",
       "20   25.0        4.0         110.0        87.0  2672.0          17.5   \n",
       "102  26.0        4.0          97.0        46.0  1950.0          21.0   \n",
       "121  15.0        8.0         318.0       150.0  3399.0          11.0   \n",
       "214  13.0        8.0         302.0       130.0  3870.0          15.0   \n",
       "330  40.9        4.0          85.0        60.0  1835.0          17.3   \n",
       "87   13.0        8.0         350.0       145.0  3988.0          13.0   \n",
       "372  27.0        4.0         151.0        90.0  2735.0          18.0   \n",
       "99   18.0        6.0         232.0       100.0  2945.0          16.0   \n",
       "359  28.1        4.0         141.0        80.0  3230.0          20.4   \n",
       "151  31.0        4.0          79.0        67.0  2000.0          16.0   \n",
       "130  26.0        4.0         122.0        80.0  2451.0          16.5   \n",
       "149  24.0        4.0         120.0        97.0  2489.0          15.0   \n",
       "308  33.5        4.0         151.0        90.0  2556.0          13.2   \n",
       "257  19.4        6.0         232.0        90.0  3210.0          17.2   \n",
       "\n",
       "     Model year  Origin  \n",
       "102        73.0     2.0  \n",
       "348        81.0     3.0  \n",
       "270        78.0     3.0  \n",
       "106        73.0     1.0  \n",
       "71         72.0     3.0  \n",
       "188        76.0     1.0  \n",
       "20         70.0     2.0  \n",
       "102        73.0     2.0  \n",
       "121        73.0     1.0  \n",
       "214        76.0     1.0  \n",
       "330        80.0     2.0  \n",
       "87         73.0     1.0  \n",
       "372        82.0     1.0  \n",
       "99         73.0     1.0  \n",
       "359        81.0     2.0  \n",
       "151        74.0     2.0  \n",
       "130        74.0     1.0  \n",
       "149        74.0     3.0  \n",
       "308        79.0     1.0  \n",
       "257        78.0     1.0  "
      ]
     },
     "execution_count": 21,
     "metadata": {},
     "output_type": "execute_result"
    }
   ],
   "source": [
    "sample_data = df_temp.sample(frac=0.05,replace=True,random_state=42)\n",
    "sample_data"
   ]
  },
  {
   "cell_type": "markdown",
   "id": "fab9dce4",
   "metadata": {},
   "source": [
    "### Resampling Strategies for imbalanced datasets\n",
    "For trying out different strategies creating a small unbalanced Dataset using `make_classification` method"
   ]
  },
  {
   "cell_type": "code",
   "execution_count": 22,
   "id": "43aff652",
   "metadata": {},
   "outputs": [
    {
     "data": {
      "image/png": "[encoded data removed]",
      "text/plain": [
       "<Figure size 432x288 with 1 Axes>"
      ]
     },
     "metadata": {
      "needs_background": "light"
     },
     "output_type": "display_data"
    }
   ],
   "source": [
    "from sklearn.datasets import make_classification\n",
    "\n",
    "x, y = make_classification(n_classes=2, class_sep=1.5, weights=[0.9, 0.1],\n",
    "    n_informative=3, n_redundant=1, flip_y=0,\n",
    "    n_features=20, n_clusters_per_class=1,\n",
    "    n_samples=100, random_state=42)\n",
    "\n",
    "df = pd.DataFrame(x)\n",
    "df['target'] = y\n",
    "df.target.value_counts().plot(kind='bar', title='Count (target)', color = [\"blue\",\"orange\"]);"
   ]
  },
  {
   "cell_type": "markdown",
   "id": "d20ceb31",
   "metadata": {},
   "source": [
    "Function to create 2-dimensional plot to see data distribution"
   ]
  },
  {
   "cell_type": "code",
   "execution_count": 23,
   "id": "9a85079c",
   "metadata": {},
   "outputs": [],
   "source": [
    "def plot_2d_space(X, y, label='Classes'):   \n",
    "    colors = ['#1F77B4', '#FF7F0E']\n",
    "    markers = ['o', 's']\n",
    "    for l, c, m in zip(np.unique(y), colors, markers):\n",
    "        plt.scatter(\n",
    "            X[y==l, 0],\n",
    "            X[y==l, 1],\n",
    "            c=c, label=l, marker=m\n",
    "        )\n",
    "    plt.title(label)\n",
    "    plt.legend(loc='upper right')\n",
    "    plt.show()"
   ]
  },
  {
   "cell_type": "markdown",
   "id": "bd4e8bf9",
   "metadata": {},
   "source": [
    "we will reduce the size of the dataset using Principal Component Analysis (PCA)"
   ]
  },
  {
   "cell_type": "code",
   "execution_count": 24,
   "id": "420dd5db",
   "metadata": {},
   "outputs": [
    {
     "data": {
      "image/png": "[encoded data removed]",
      "text/plain": [
       "<Figure size 432x288 with 1 Axes>"
      ]
     },
     "metadata": {
      "needs_background": "light"
     },
     "output_type": "display_data"
    }
   ],
   "source": [
    "from sklearn.decomposition import PCA\n",
    "\n",
    "pca = PCA(n_components=2)\n",
    "x = pca.fit_transform(x)\n",
    "\n",
    "plot_2d_space(x, y, 'Imbalanced dataset (2 PCA components)')"
   ]
  },
  {
   "cell_type": "markdown",
   "id": "932cc34b",
   "metadata": {},
   "source": [
    "Random under-sampling with imbalanced-learn"
   ]
  },
  {
   "cell_type": "code",
   "execution_count": 25,
   "id": "fd37207e",
   "metadata": {},
   "outputs": [],
   "source": [
    "import imblearn"
   ]
  },
  {
   "cell_type": "code",
   "execution_count": 26,
   "id": "2e312603",
   "metadata": {},
   "outputs": [
    {
     "name": "stdout",
     "output_type": "stream",
     "text": [
      "Selected indices: [41 22 61 78  0 27 40 71 10 45 23 48 49 50 53 57 76 77 85 89]\n"
     ]
    },
    {
     "data": {
      "image/png": "[encoded data removed]",
      "text/plain": [
       "<Figure size 432x288 with 1 Axes>"
      ]
     },
     "metadata": {
      "needs_background": "light"
     },
     "output_type": "display_data"
    }
   ],
   "source": [
    "from imblearn.under_sampling import RandomUnderSampler\n",
    "\n",
    "RUS = RandomUnderSampler(random_state=42)\n",
    "\n",
    "x_rus, y_rus = RUS.fit_resample(x,y)\n",
    "\n",
    "\n",
    "print('Selected indices:', RUS.sample_indices_)\n",
    "\n",
    "plot_2d_space(x_rus, y_rus, 'Random under-sampling')"
   ]
  },
  {
   "cell_type": "markdown",
   "id": "ad852e82",
   "metadata": {},
   "source": [
    "Random over-sampling with imbalanced-learn"
   ]
  },
  {
   "cell_type": "code",
   "execution_count": 27,
   "id": "90d501d7",
   "metadata": {},
   "outputs": [
    {
     "name": "stdout",
     "output_type": "stream",
     "text": [
      "80 new random picked points\n"
     ]
    },
    {
     "data": {
      "image/png": "[encoded data removed]",
      "text/plain": [
       "<Figure size 432x288 with 1 Axes>"
      ]
     },
     "metadata": {
      "needs_background": "light"
     },
     "output_type": "display_data"
    }
   ],
   "source": [
    "from imblearn.over_sampling import RandomOverSampler\n",
    "\n",
    "ROS = RandomOverSampler(random_state=42,sampling_strategy='auto')\n",
    "x_ros, y_ros = ROS.fit_resample(x, y)\n",
    "\n",
    "print(x_ros.shape[0] - x.shape[0], 'new random picked points')\n",
    "\n",
    "plot_2d_space(x_ros, y_ros, 'Random over-sampling')"
   ]
  },
  {
   "cell_type": "markdown",
   "id": "715fa3ce",
   "metadata": {},
   "source": [
    "#### Under-sampling: Tomek links\n",
    "Tomek links are pairs of very close instances, but of opposite classes. Removing the instances of the majority class of each pair increases the space between the two classes, facilitating the classification process."
   ]
  },
  {
   "cell_type": "code",
   "execution_count": 28,
   "id": "be789760",
   "metadata": {},
   "outputs": [
    {
     "name": "stdout",
     "output_type": "stream",
     "text": [
      "Selected indices: [ 0  1  2  3  4  5  6  7  8  9 10 11 12 13 14 15 16 17 18 19 20 21 22 23\n",
      " 24 25 26 27 28 29 30 31 32 33 34 35 36 37 38 39 40 41 42 43 44 45 46 47\n",
      " 48 49 50 51 52 53 54 55 56 57 58 59 60 61 62 63 64 65 66 67 68 69 70 71\n",
      " 72 73 74 75 76 77 78 79 80 81 82 83 84 85 86 87 88 89 90 91 92 93 94 95\n",
      " 96 98 99]\n"
     ]
    },
    {
     "data": {
      "image/png": "[encoded data removed]",
      "text/plain": [
       "<Figure size 432x288 with 1 Axes>"
      ]
     },
     "metadata": {
      "needs_background": "light"
     },
     "output_type": "display_data"
    }
   ],
   "source": [
    "from imblearn.under_sampling import TomekLinks\n",
    "\n",
    "tl = TomekLinks(sampling_strategy='auto')\n",
    "x_tl, y_tl= tl.fit_resample(x, y)\n",
    "\n",
    "\n",
    "print('Selected indices:', tl.sample_indices_)\n",
    "\n",
    "plot_2d_space(x_tl, y_tl, 'Tomek links under-sampling')"
   ]
  },
  {
   "cell_type": "markdown",
   "id": "5aed4bb7",
   "metadata": {},
   "source": [
    "#### Under-sampling: Cluster Centroids\n",
    "This technique performs under-sampling by generating centroids based on clustering methods. The data will be previously grouped by similarity, in order to preserve information"
   ]
  },
  {
   "cell_type": "code",
   "execution_count": 29,
   "id": "cc29e003",
   "metadata": {},
   "outputs": [
    {
     "data": {
      "image/png": "[encoded data removed]",
      "text/plain": [
       "<Figure size 432x288 with 1 Axes>"
      ]
     },
     "metadata": {
      "needs_background": "light"
     },
     "output_type": "display_data"
    }
   ],
   "source": [
    "from imblearn.under_sampling import ClusterCentroids\n",
    "\n",
    "cc = ClusterCentroids(random_state=42)\n",
    "x_cc, y_cc = cc.fit_resample(x, y)\n",
    "\n",
    "plot_2d_space(x_cc, y_cc, 'Cluster Centroids under-sampling')"
   ]
  },
  {
   "cell_type": "markdown",
   "id": "408b2d5e",
   "metadata": {},
   "source": [
    "#### Over-sampling: SMOTE\n",
    "SMOTE (Synthetic Minority Oversampling TEchnique) consists of synthesizing elements for the minority class, based on those that already exist. It works randomly picingk a point from the minority class and computing the k-nearest neighbors for this point. The synthetic points are added between the chosen point and its neighbors."
   ]
  },
  {
   "cell_type": "code",
   "execution_count": 30,
   "id": "2d810c13",
   "metadata": {},
   "outputs": [
    {
     "data": {
      "image/png": "[encoded data removed]",
      "text/plain": [
       "<Figure size 432x288 with 1 Axes>"
      ]
     },
     "metadata": {
      "needs_background": "light"
     },
     "output_type": "display_data"
    }
   ],
   "source": [
    "from imblearn.over_sampling import SMOTE\n",
    "\n",
    "smote = SMOTE(sampling_strategy='minority',random_state=42,k_neighbors=5)\n",
    "x_sm, y_sm = smote.fit_resample(x, y)\n",
    "\n",
    "plot_2d_space(x_sm, y_sm, 'SMOTE over-sampling')"
   ]
  },
  {
   "cell_type": "markdown",
   "id": "86217997",
   "metadata": {},
   "source": [
    "#### Over-sampling followed by under-sampling\n",
    "Now, we will do a combination of over-sampling and under-sampling, using the SMOTE and Tomek links techniques:"
   ]
  },
  {
   "cell_type": "code",
   "execution_count": 31,
   "id": "d7c4724f",
   "metadata": {},
   "outputs": [
    {
     "data": {
      "image/png": "[encoded data removed]",
      "text/plain": [
       "<Figure size 432x288 with 1 Axes>"
      ]
     },
     "metadata": {
      "needs_background": "light"
     },
     "output_type": "display_data"
    }
   ],
   "source": [
    "from imblearn.combine import SMOTETomek\n",
    "\n",
    "smt = SMOTETomek(random_state=42,sampling_strategy='auto')\n",
    "x_smt, y_smt = smt.fit_resample(x, y)\n",
    "\n",
    "plot_2d_space(x_smt, y_smt, 'SMOTE + Tomek links')"
   ]
  },
  {
   "cell_type": "markdown",
   "id": "365b7080",
   "metadata": {},
   "source": [
    "### Dimentionality Reduction"
   ]
  },
  {
   "cell_type": "code",
   "execution_count": 96,
   "id": "749997a7",
   "metadata": {},
   "outputs": [
    {
     "data": {
      "text/html": [
       "<div>\n",
       "<style scoped>\n",
       "    .dataframe tbody tr th:only-of-type {\n",
       "        vertical-align: middle;\n",
       "    }\n",
       "\n",
       "    .dataframe tbody tr th {\n",
       "        vertical-align: top;\n",
       "    }\n",
       "\n",
       "    .dataframe thead th {\n",
       "        text-align: right;\n",
       "    }\n",
       "</style>\n",
       "<table border=\"1\" class=\"dataframe\">\n",
       "  <thead>\n",
       "    <tr style=\"text-align: right;\">\n",
       "      <th></th>\n",
       "      <th>4</th>\n",
       "      <th>0</th>\n",
       "      <th>0.1</th>\n",
       "      <th>0.2</th>\n",
       "      <th>0.3</th>\n",
       "      <th>0.4</th>\n",
       "      <th>0.5</th>\n",
       "      <th>0.6</th>\n",
       "      <th>0.7</th>\n",
       "      <th>0.8</th>\n",
       "      <th>...</th>\n",
       "      <th>0.535</th>\n",
       "      <th>0.536</th>\n",
       "      <th>0.537</th>\n",
       "      <th>0.538</th>\n",
       "      <th>0.539</th>\n",
       "      <th>0.540</th>\n",
       "      <th>0.541</th>\n",
       "      <th>0.542</th>\n",
       "      <th>0.543</th>\n",
       "      <th>0.544</th>\n",
       "    </tr>\n",
       "  </thead>\n",
       "  <tbody>\n",
       "    <tr>\n",
       "      <th>0</th>\n",
       "      <td>1</td>\n",
       "      <td>0</td>\n",
       "      <td>0</td>\n",
       "      <td>0</td>\n",
       "      <td>0</td>\n",
       "      <td>0</td>\n",
       "      <td>0</td>\n",
       "      <td>0</td>\n",
       "      <td>0</td>\n",
       "      <td>0</td>\n",
       "      <td>...</td>\n",
       "      <td>0</td>\n",
       "      <td>0</td>\n",
       "      <td>0</td>\n",
       "      <td>0</td>\n",
       "      <td>0</td>\n",
       "      <td>0</td>\n",
       "      <td>0</td>\n",
       "      <td>0</td>\n",
       "      <td>0</td>\n",
       "      <td>0</td>\n",
       "    </tr>\n",
       "    <tr>\n",
       "      <th>1</th>\n",
       "      <td>4</td>\n",
       "      <td>0</td>\n",
       "      <td>0</td>\n",
       "      <td>0</td>\n",
       "      <td>0</td>\n",
       "      <td>0</td>\n",
       "      <td>0</td>\n",
       "      <td>0</td>\n",
       "      <td>0</td>\n",
       "      <td>0</td>\n",
       "      <td>...</td>\n",
       "      <td>0</td>\n",
       "      <td>0</td>\n",
       "      <td>0</td>\n",
       "      <td>0</td>\n",
       "      <td>0</td>\n",
       "      <td>0</td>\n",
       "      <td>0</td>\n",
       "      <td>0</td>\n",
       "      <td>0</td>\n",
       "      <td>0</td>\n",
       "    </tr>\n",
       "    <tr>\n",
       "      <th>2</th>\n",
       "      <td>1</td>\n",
       "      <td>0</td>\n",
       "      <td>0</td>\n",
       "      <td>0</td>\n",
       "      <td>0</td>\n",
       "      <td>0</td>\n",
       "      <td>0</td>\n",
       "      <td>0</td>\n",
       "      <td>0</td>\n",
       "      <td>0</td>\n",
       "      <td>...</td>\n",
       "      <td>0</td>\n",
       "      <td>0</td>\n",
       "      <td>0</td>\n",
       "      <td>0</td>\n",
       "      <td>0</td>\n",
       "      <td>0</td>\n",
       "      <td>0</td>\n",
       "      <td>0</td>\n",
       "      <td>0</td>\n",
       "      <td>0</td>\n",
       "    </tr>\n",
       "    <tr>\n",
       "      <th>3</th>\n",
       "      <td>6</td>\n",
       "      <td>0</td>\n",
       "      <td>0</td>\n",
       "      <td>0</td>\n",
       "      <td>0</td>\n",
       "      <td>0</td>\n",
       "      <td>0</td>\n",
       "      <td>0</td>\n",
       "      <td>0</td>\n",
       "      <td>0</td>\n",
       "      <td>...</td>\n",
       "      <td>0</td>\n",
       "      <td>0</td>\n",
       "      <td>0</td>\n",
       "      <td>0</td>\n",
       "      <td>0</td>\n",
       "      <td>0</td>\n",
       "      <td>0</td>\n",
       "      <td>0</td>\n",
       "      <td>0</td>\n",
       "      <td>0</td>\n",
       "    </tr>\n",
       "    <tr>\n",
       "      <th>4</th>\n",
       "      <td>7</td>\n",
       "      <td>0</td>\n",
       "      <td>0</td>\n",
       "      <td>0</td>\n",
       "      <td>0</td>\n",
       "      <td>0</td>\n",
       "      <td>0</td>\n",
       "      <td>0</td>\n",
       "      <td>0</td>\n",
       "      <td>0</td>\n",
       "      <td>...</td>\n",
       "      <td>0</td>\n",
       "      <td>0</td>\n",
       "      <td>0</td>\n",
       "      <td>0</td>\n",
       "      <td>0</td>\n",
       "      <td>0</td>\n",
       "      <td>0</td>\n",
       "      <td>0</td>\n",
       "      <td>0</td>\n",
       "      <td>0</td>\n",
       "    </tr>\n",
       "  </tbody>\n",
       "</table>\n",
       "<p>5 rows × 785 columns</p>\n",
       "</div>"
      ],
      "text/plain": [
       "   4  0  0.1  0.2  0.3  0.4  0.5  0.6  0.7  0.8  ...  0.535  0.536  0.537  \\\n",
       "0  1  0    0    0    0    0    0    0    0    0  ...      0      0      0   \n",
       "1  4  0    0    0    0    0    0    0    0    0  ...      0      0      0   \n",
       "2  1  0    0    0    0    0    0    0    0    0  ...      0      0      0   \n",
       "3  6  0    0    0    0    0    0    0    0    0  ...      0      0      0   \n",
       "4  7  0    0    0    0    0    0    0    0    0  ...      0      0      0   \n",
       "\n",
       "   0.538  0.539  0.540  0.541  0.542  0.543  0.544  \n",
       "0      0      0      0      0      0      0      0  \n",
       "1      0      0      0      0      0      0      0  \n",
       "2      0      0      0      0      0      0      0  \n",
       "3      0      0      0      0      0      0      0  \n",
       "4      0      0      0      0      0      0      0  \n",
       "\n",
       "[5 rows x 785 columns]"
      ]
     },
     "execution_count": 96,
     "metadata": {},
     "output_type": "execute_result"
    }
   ],
   "source": [
    "data = pd.read_csv(\"Data/emnist-mnist-train.csv\")\n",
    "data.head()\n"
   ]
  },
  {
   "cell_type": "code",
   "execution_count": 99,
   "id": "0e4554e3",
   "metadata": {},
   "outputs": [],
   "source": [
    "data[\"label\"] = data[\"4\"]\n",
    "data.drop(\"4\",axis=1,inplace=True)"
   ]
  },
  {
   "cell_type": "code",
   "execution_count": 100,
   "id": "d0783ab6",
   "metadata": {},
   "outputs": [
    {
     "data": {
      "text/plain": [
       "0        0\n",
       "0.1      0\n",
       "0.2      0\n",
       "0.3      0\n",
       "0.4      0\n",
       "        ..\n",
       "0.541    0\n",
       "0.542    0\n",
       "0.543    0\n",
       "0.544    0\n",
       "label    0\n",
       "Length: 785, dtype: int64"
      ]
     },
     "execution_count": 100,
     "metadata": {},
     "output_type": "execute_result"
    }
   ],
   "source": [
    "# Checking for missing values\n",
    "data.isna().sum()"
   ]
  },
  {
   "cell_type": "code",
   "execution_count": 87,
   "id": "5db6db5e",
   "metadata": {},
   "outputs": [
    {
     "data": {
      "image/png": "[encoded data removed]",
      "text/plain": [
       "<Figure size 432x288 with 1 Axes>"
      ]
     },
     "metadata": {
      "needs_background": "light"
     },
     "output_type": "display_data"
    },
    {
     "data": {
      "image/png": "[encoded data removed]",
      "text/plain": [
       "<Figure size 432x288 with 1 Axes>"
      ]
     },
     "metadata": {
      "needs_background": "light"
     },
     "output_type": "display_data"
    },
    {
     "data": {
      "image/png": "[encoded data removed]",
      "text/plain": [
       "<Figure size 432x288 with 1 Axes>"
      ]
     },
     "metadata": {
      "needs_background": "light"
     },
     "output_type": "display_data"
    },
    {
     "data": {
      "image/png": "[encoded data removed]",
      "text/plain": [
       "<Figure size 432x288 with 1 Axes>"
      ]
     },
     "metadata": {
      "needs_background": "light"
     },
     "output_type": "display_data"
    },
    {
     "data": {
      "image/png": "[encoded data removed]",
      "text/plain": [
       "<Figure size 432x288 with 1 Axes>"
      ]
     },
     "metadata": {
      "needs_background": "light"
     },
     "output_type": "display_data"
    },
    {
     "data": {
      "image/png": "[encoded data removed]",
      "text/plain": [
       "<Figure size 432x288 with 1 Axes>"
      ]
     },
     "metadata": {
      "needs_background": "light"
     },
     "output_type": "display_data"
    },
    {
     "data": {
      "image/png": "[encoded data removed]",
      "text/plain": [
       "<Figure size 432x288 with 1 Axes>"
      ]
     },
     "metadata": {
      "needs_background": "light"
     },
     "output_type": "display_data"
    },
    {
     "data": {
      "image/png": "[encoded data removed]",
      "text/plain": [
       "<Figure size 432x288 with 1 Axes>"
      ]
     },
     "metadata": {
      "needs_background": "light"
     },
     "output_type": "display_data"
    },
    {
     "data": {
      "image/png": "[encoded data removed]",
      "text/plain": [
       "<Figure size 432x288 with 1 Axes>"
      ]
     },
     "metadata": {
      "needs_background": "light"
     },
     "output_type": "display_data"
    },
    {
     "data": {
      "image/png": "[encoded data removed]",
      "text/plain": [
       "<Figure size 432x288 with 1 Axes>"
      ]
     },
     "metadata": {
      "needs_background": "light"
     },
     "output_type": "display_data"
    }
   ],
   "source": [
    "import matplotlib.pyplot as plt\n",
    "%matplotlib inline\n",
    "\n",
    "for i in range(0,10):\n",
    "    label = data[\"label\"][i]\n",
    "\n",
    "    # The rest of columns are pixels\n",
    "    pixels = data.drop(\"label\",axis=1)\n",
    "    pixels = pixels.iloc[i]\n",
    "    pixels = np.flipud(pixels)\n",
    "\n",
    "\n",
    "    # Make those columns into a array of 8-bits pixels\n",
    "    # This array will be of 1D with length 784\n",
    "    # The pixel intensity values are integers from 0 to 255\n",
    "    pixels = np.array(pixels, dtype='uint8')\n",
    "    pixels = np.flipud(pixels)\n",
    "\n",
    "    # Reshape the array into 28 x 28 array (2-dimensional array)\n",
    "    pixels = pixels.reshape((28, 28))\n",
    "    pixels = pixels.transpose()\n",
    "\n",
    "    plt.title('Label is {label}'.format(label=label))\n",
    "    plt.imshow(pixels, cmap='gray')\n",
    "    plt.show()\n"
   ]
  },
  {
   "cell_type": "markdown",
   "id": "f472e143",
   "metadata": {},
   "source": [
    "Using PCA, the data matrix is projected to its first two principal components. The projected values of the original image data are stored in a pandas DataFrame object named projected."
   ]
  },
  {
   "cell_type": "code",
   "execution_count": 179,
   "id": "fc76e118",
   "metadata": {},
   "outputs": [
    {
     "data": {
      "text/plain": [
       "(60, 785)"
      ]
     },
     "execution_count": 179,
     "metadata": {},
     "output_type": "execute_result"
    }
   ],
   "source": [
    "# Taking few samples of data for reduction\n",
    "data_temp = data.sample(frac=0.001,random_state=42)\n",
    "data_temp.shape"
   ]
  },
  {
   "cell_type": "code",
   "execution_count": 180,
   "id": "0b420b81",
   "metadata": {},
   "outputs": [],
   "source": [
    "data_temp.reset_index(inplace=True);"
   ]
  },
  {
   "cell_type": "code",
   "execution_count": 181,
   "id": "78e05058",
   "metadata": {},
   "outputs": [
    {
     "data": {
      "text/html": [
       "<div>\n",
       "<style scoped>\n",
       "    .dataframe tbody tr th:only-of-type {\n",
       "        vertical-align: middle;\n",
       "    }\n",
       "\n",
       "    .dataframe tbody tr th {\n",
       "        vertical-align: top;\n",
       "    }\n",
       "\n",
       "    .dataframe thead th {\n",
       "        text-align: right;\n",
       "    }\n",
       "</style>\n",
       "<table border=\"1\" class=\"dataframe\">\n",
       "  <thead>\n",
       "    <tr style=\"text-align: right;\">\n",
       "      <th></th>\n",
       "      <th>pc1</th>\n",
       "      <th>pc2</th>\n",
       "      <th>label</th>\n",
       "    </tr>\n",
       "  </thead>\n",
       "  <tbody>\n",
       "    <tr>\n",
       "      <th>0</th>\n",
       "      <td>-16785.415404</td>\n",
       "      <td>-539.847049</td>\n",
       "      <td>7</td>\n",
       "    </tr>\n",
       "    <tr>\n",
       "      <th>1</th>\n",
       "      <td>22431.758880</td>\n",
       "      <td>859.391866</td>\n",
       "      <td>2</td>\n",
       "    </tr>\n",
       "    <tr>\n",
       "      <th>2</th>\n",
       "      <td>18016.712365</td>\n",
       "      <td>-477.221153</td>\n",
       "      <td>1</td>\n",
       "    </tr>\n",
       "    <tr>\n",
       "      <th>3</th>\n",
       "      <td>-20889.280501</td>\n",
       "      <td>1119.731388</td>\n",
       "      <td>6</td>\n",
       "    </tr>\n",
       "    <tr>\n",
       "      <th>4</th>\n",
       "      <td>-21130.088864</td>\n",
       "      <td>-31.280760</td>\n",
       "      <td>2</td>\n",
       "    </tr>\n",
       "    <tr>\n",
       "      <th>5</th>\n",
       "      <td>-13654.236271</td>\n",
       "      <td>-375.176922</td>\n",
       "      <td>7</td>\n",
       "    </tr>\n",
       "    <tr>\n",
       "      <th>6</th>\n",
       "      <td>-12554.852331</td>\n",
       "      <td>-906.367570</td>\n",
       "      <td>7</td>\n",
       "    </tr>\n",
       "    <tr>\n",
       "      <th>7</th>\n",
       "      <td>-14291.288416</td>\n",
       "      <td>-1126.208532</td>\n",
       "      <td>1</td>\n",
       "    </tr>\n",
       "    <tr>\n",
       "      <th>8</th>\n",
       "      <td>-20041.737496</td>\n",
       "      <td>576.407441</td>\n",
       "      <td>3</td>\n",
       "    </tr>\n",
       "    <tr>\n",
       "      <th>9</th>\n",
       "      <td>-3391.427482</td>\n",
       "      <td>-110.372969</td>\n",
       "      <td>5</td>\n",
       "    </tr>\n",
       "    <tr>\n",
       "      <th>10</th>\n",
       "      <td>23980.957318</td>\n",
       "      <td>-189.621696</td>\n",
       "      <td>3</td>\n",
       "    </tr>\n",
       "    <tr>\n",
       "      <th>11</th>\n",
       "      <td>-9291.357508</td>\n",
       "      <td>831.792103</td>\n",
       "      <td>8</td>\n",
       "    </tr>\n",
       "    <tr>\n",
       "      <th>12</th>\n",
       "      <td>-24387.469652</td>\n",
       "      <td>669.122368</td>\n",
       "      <td>6</td>\n",
       "    </tr>\n",
       "    <tr>\n",
       "      <th>13</th>\n",
       "      <td>2827.454319</td>\n",
       "      <td>-42.203744</td>\n",
       "      <td>4</td>\n",
       "    </tr>\n",
       "    <tr>\n",
       "      <th>14</th>\n",
       "      <td>23463.510507</td>\n",
       "      <td>265.699429</td>\n",
       "      <td>3</td>\n",
       "    </tr>\n",
       "    <tr>\n",
       "      <th>15</th>\n",
       "      <td>11371.289705</td>\n",
       "      <td>-513.405406</td>\n",
       "      <td>9</td>\n",
       "    </tr>\n",
       "    <tr>\n",
       "      <th>16</th>\n",
       "      <td>22868.585373</td>\n",
       "      <td>-1164.147018</td>\n",
       "      <td>1</td>\n",
       "    </tr>\n",
       "    <tr>\n",
       "      <th>17</th>\n",
       "      <td>3831.874664</td>\n",
       "      <td>-155.182723</td>\n",
       "      <td>8</td>\n",
       "    </tr>\n",
       "    <tr>\n",
       "      <th>18</th>\n",
       "      <td>-9912.098766</td>\n",
       "      <td>-42.967729</td>\n",
       "      <td>4</td>\n",
       "    </tr>\n",
       "    <tr>\n",
       "      <th>19</th>\n",
       "      <td>4640.988601</td>\n",
       "      <td>894.756426</td>\n",
       "      <td>0</td>\n",
       "    </tr>\n",
       "    <tr>\n",
       "      <th>20</th>\n",
       "      <td>23346.666130</td>\n",
       "      <td>263.511095</td>\n",
       "      <td>8</td>\n",
       "    </tr>\n",
       "    <tr>\n",
       "      <th>21</th>\n",
       "      <td>1488.537168</td>\n",
       "      <td>650.145639</td>\n",
       "      <td>5</td>\n",
       "    </tr>\n",
       "    <tr>\n",
       "      <th>22</th>\n",
       "      <td>330.837507</td>\n",
       "      <td>-981.039805</td>\n",
       "      <td>7</td>\n",
       "    </tr>\n",
       "    <tr>\n",
       "      <th>23</th>\n",
       "      <td>-14894.383170</td>\n",
       "      <td>994.659744</td>\n",
       "      <td>8</td>\n",
       "    </tr>\n",
       "    <tr>\n",
       "      <th>24</th>\n",
       "      <td>2159.021188</td>\n",
       "      <td>99.126527</td>\n",
       "      <td>9</td>\n",
       "    </tr>\n",
       "    <tr>\n",
       "      <th>25</th>\n",
       "      <td>1656.850034</td>\n",
       "      <td>-771.603625</td>\n",
       "      <td>1</td>\n",
       "    </tr>\n",
       "    <tr>\n",
       "      <th>26</th>\n",
       "      <td>-7660.574543</td>\n",
       "      <td>556.489047</td>\n",
       "      <td>5</td>\n",
       "    </tr>\n",
       "    <tr>\n",
       "      <th>27</th>\n",
       "      <td>-25615.455200</td>\n",
       "      <td>-484.124343</td>\n",
       "      <td>5</td>\n",
       "    </tr>\n",
       "    <tr>\n",
       "      <th>28</th>\n",
       "      <td>-4675.654318</td>\n",
       "      <td>413.388061</td>\n",
       "      <td>8</td>\n",
       "    </tr>\n",
       "    <tr>\n",
       "      <th>29</th>\n",
       "      <td>-15115.534055</td>\n",
       "      <td>1388.447099</td>\n",
       "      <td>0</td>\n",
       "    </tr>\n",
       "    <tr>\n",
       "      <th>30</th>\n",
       "      <td>29211.646423</td>\n",
       "      <td>-1012.657857</td>\n",
       "      <td>1</td>\n",
       "    </tr>\n",
       "    <tr>\n",
       "      <th>31</th>\n",
       "      <td>-20408.712047</td>\n",
       "      <td>-950.375387</td>\n",
       "      <td>1</td>\n",
       "    </tr>\n",
       "    <tr>\n",
       "      <th>32</th>\n",
       "      <td>23683.532572</td>\n",
       "      <td>406.455328</td>\n",
       "      <td>5</td>\n",
       "    </tr>\n",
       "    <tr>\n",
       "      <th>33</th>\n",
       "      <td>-3971.568104</td>\n",
       "      <td>-1096.070901</td>\n",
       "      <td>1</td>\n",
       "    </tr>\n",
       "    <tr>\n",
       "      <th>34</th>\n",
       "      <td>23534.181514</td>\n",
       "      <td>-1126.207676</td>\n",
       "      <td>1</td>\n",
       "    </tr>\n",
       "    <tr>\n",
       "      <th>35</th>\n",
       "      <td>8570.149864</td>\n",
       "      <td>58.687249</td>\n",
       "      <td>3</td>\n",
       "    </tr>\n",
       "    <tr>\n",
       "      <th>36</th>\n",
       "      <td>6936.573937</td>\n",
       "      <td>926.696871</td>\n",
       "      <td>6</td>\n",
       "    </tr>\n",
       "    <tr>\n",
       "      <th>37</th>\n",
       "      <td>9954.092870</td>\n",
       "      <td>-187.745221</td>\n",
       "      <td>1</td>\n",
       "    </tr>\n",
       "    <tr>\n",
       "      <th>38</th>\n",
       "      <td>30509.635452</td>\n",
       "      <td>305.093679</td>\n",
       "      <td>2</td>\n",
       "    </tr>\n",
       "    <tr>\n",
       "      <th>39</th>\n",
       "      <td>-24043.950418</td>\n",
       "      <td>112.854797</td>\n",
       "      <td>4</td>\n",
       "    </tr>\n",
       "    <tr>\n",
       "      <th>40</th>\n",
       "      <td>7955.630701</td>\n",
       "      <td>370.265867</td>\n",
       "      <td>2</td>\n",
       "    </tr>\n",
       "    <tr>\n",
       "      <th>41</th>\n",
       "      <td>29932.001196</td>\n",
       "      <td>-672.764913</td>\n",
       "      <td>1</td>\n",
       "    </tr>\n",
       "    <tr>\n",
       "      <th>42</th>\n",
       "      <td>-114.367313</td>\n",
       "      <td>1318.160484</td>\n",
       "      <td>0</td>\n",
       "    </tr>\n",
       "    <tr>\n",
       "      <th>43</th>\n",
       "      <td>26059.456151</td>\n",
       "      <td>536.743702</td>\n",
       "      <td>4</td>\n",
       "    </tr>\n",
       "    <tr>\n",
       "      <th>44</th>\n",
       "      <td>-8323.399042</td>\n",
       "      <td>875.379052</td>\n",
       "      <td>5</td>\n",
       "    </tr>\n",
       "    <tr>\n",
       "      <th>45</th>\n",
       "      <td>-26525.162563</td>\n",
       "      <td>-622.905624</td>\n",
       "      <td>1</td>\n",
       "    </tr>\n",
       "    <tr>\n",
       "      <th>46</th>\n",
       "      <td>18901.105644</td>\n",
       "      <td>907.258077</td>\n",
       "      <td>8</td>\n",
       "    </tr>\n",
       "    <tr>\n",
       "      <th>47</th>\n",
       "      <td>-20456.031305</td>\n",
       "      <td>-225.209078</td>\n",
       "      <td>4</td>\n",
       "    </tr>\n",
       "    <tr>\n",
       "      <th>48</th>\n",
       "      <td>17162.523012</td>\n",
       "      <td>-476.818910</td>\n",
       "      <td>9</td>\n",
       "    </tr>\n",
       "    <tr>\n",
       "      <th>49</th>\n",
       "      <td>-18887.554058</td>\n",
       "      <td>-262.262886</td>\n",
       "      <td>8</td>\n",
       "    </tr>\n",
       "    <tr>\n",
       "      <th>50</th>\n",
       "      <td>-10328.826940</td>\n",
       "      <td>-411.491740</td>\n",
       "      <td>1</td>\n",
       "    </tr>\n",
       "    <tr>\n",
       "      <th>51</th>\n",
       "      <td>-29141.750564</td>\n",
       "      <td>-1088.553023</td>\n",
       "      <td>1</td>\n",
       "    </tr>\n",
       "    <tr>\n",
       "      <th>52</th>\n",
       "      <td>18448.093538</td>\n",
       "      <td>-233.994474</td>\n",
       "      <td>8</td>\n",
       "    </tr>\n",
       "    <tr>\n",
       "      <th>53</th>\n",
       "      <td>-6629.963643</td>\n",
       "      <td>-122.802884</td>\n",
       "      <td>2</td>\n",
       "    </tr>\n",
       "    <tr>\n",
       "      <th>54</th>\n",
       "      <td>-19295.919528</td>\n",
       "      <td>356.857692</td>\n",
       "      <td>5</td>\n",
       "    </tr>\n",
       "    <tr>\n",
       "      <th>55</th>\n",
       "      <td>-16119.848281</td>\n",
       "      <td>-506.976378</td>\n",
       "      <td>1</td>\n",
       "    </tr>\n",
       "    <tr>\n",
       "      <th>56</th>\n",
       "      <td>-11560.040087</td>\n",
       "      <td>-230.584537</td>\n",
       "      <td>4</td>\n",
       "    </tr>\n",
       "    <tr>\n",
       "      <th>57</th>\n",
       "      <td>10479.961623</td>\n",
       "      <td>356.772574</td>\n",
       "      <td>4</td>\n",
       "    </tr>\n",
       "    <tr>\n",
       "      <th>58</th>\n",
       "      <td>-203.199570</td>\n",
       "      <td>908.995904</td>\n",
       "      <td>5</td>\n",
       "    </tr>\n",
       "    <tr>\n",
       "      <th>59</th>\n",
       "      <td>26547.519187</td>\n",
       "      <td>115.303026</td>\n",
       "      <td>3</td>\n",
       "    </tr>\n",
       "  </tbody>\n",
       "</table>\n",
       "</div>"
      ],
      "text/plain": [
       "             pc1          pc2  label\n",
       "0  -16785.415404  -539.847049      7\n",
       "1   22431.758880   859.391866      2\n",
       "2   18016.712365  -477.221153      1\n",
       "3  -20889.280501  1119.731388      6\n",
       "4  -21130.088864   -31.280760      2\n",
       "5  -13654.236271  -375.176922      7\n",
       "6  -12554.852331  -906.367570      7\n",
       "7  -14291.288416 -1126.208532      1\n",
       "8  -20041.737496   576.407441      3\n",
       "9   -3391.427482  -110.372969      5\n",
       "10  23980.957318  -189.621696      3\n",
       "11  -9291.357508   831.792103      8\n",
       "12 -24387.469652   669.122368      6\n",
       "13   2827.454319   -42.203744      4\n",
       "14  23463.510507   265.699429      3\n",
       "15  11371.289705  -513.405406      9\n",
       "16  22868.585373 -1164.147018      1\n",
       "17   3831.874664  -155.182723      8\n",
       "18  -9912.098766   -42.967729      4\n",
       "19   4640.988601   894.756426      0\n",
       "20  23346.666130   263.511095      8\n",
       "21   1488.537168   650.145639      5\n",
       "22    330.837507  -981.039805      7\n",
       "23 -14894.383170   994.659744      8\n",
       "24   2159.021188    99.126527      9\n",
       "25   1656.850034  -771.603625      1\n",
       "26  -7660.574543   556.489047      5\n",
       "27 -25615.455200  -484.124343      5\n",
       "28  -4675.654318   413.388061      8\n",
       "29 -15115.534055  1388.447099      0\n",
       "30  29211.646423 -1012.657857      1\n",
       "31 -20408.712047  -950.375387      1\n",
       "32  23683.532572   406.455328      5\n",
       "33  -3971.568104 -1096.070901      1\n",
       "34  23534.181514 -1126.207676      1\n",
       "35   8570.149864    58.687249      3\n",
       "36   6936.573937   926.696871      6\n",
       "37   9954.092870  -187.745221      1\n",
       "38  30509.635452   305.093679      2\n",
       "39 -24043.950418   112.854797      4\n",
       "40   7955.630701   370.265867      2\n",
       "41  29932.001196  -672.764913      1\n",
       "42   -114.367313  1318.160484      0\n",
       "43  26059.456151   536.743702      4\n",
       "44  -8323.399042   875.379052      5\n",
       "45 -26525.162563  -622.905624      1\n",
       "46  18901.105644   907.258077      8\n",
       "47 -20456.031305  -225.209078      4\n",
       "48  17162.523012  -476.818910      9\n",
       "49 -18887.554058  -262.262886      8\n",
       "50 -10328.826940  -411.491740      1\n",
       "51 -29141.750564 -1088.553023      1\n",
       "52  18448.093538  -233.994474      8\n",
       "53  -6629.963643  -122.802884      2\n",
       "54 -19295.919528   356.857692      5\n",
       "55 -16119.848281  -506.976378      1\n",
       "56 -11560.040087  -230.584537      4\n",
       "57  10479.961623   356.772574      4\n",
       "58   -203.199570   908.995904      5\n",
       "59  26547.519187   115.303026      3"
      ]
     },
     "execution_count": 181,
     "metadata": {},
     "output_type": "execute_result"
    }
   ],
   "source": [
    "from sklearn.decomposition import PCA\n",
    "\n",
    "x = data_temp.drop(\"label\",axis=1)\n",
    "y = data_temp[\"label\"]\n",
    "\n",
    "np.random.seed(42)\n",
    "pca = PCA(n_components=2)\n",
    "\n",
    "x = pca.fit_transform(x)\n",
    "projected = pd.DataFrame(x,columns=['pc1','pc2'])\n",
    "projected[\"label\"] = y\n",
    "projected"
   ]
  },
  {
   "cell_type": "code",
   "execution_count": 182,
   "id": "b95fced8",
   "metadata": {},
   "outputs": [
    {
     "data": {
      "text/plain": [
       "pc1      0\n",
       "pc2      0\n",
       "label    0\n",
       "dtype: int64"
      ]
     },
     "execution_count": 182,
     "metadata": {},
     "output_type": "execute_result"
    }
   ],
   "source": [
    "projected.isna().sum()"
   ]
  },
  {
   "cell_type": "code",
   "execution_count": 183,
   "id": "1cc545ec",
   "metadata": {},
   "outputs": [
    {
     "data": {
      "text/html": [
       "<div>\n",
       "<style scoped>\n",
       "    .dataframe tbody tr th:only-of-type {\n",
       "        vertical-align: middle;\n",
       "    }\n",
       "\n",
       "    .dataframe tbody tr th {\n",
       "        vertical-align: top;\n",
       "    }\n",
       "\n",
       "    .dataframe thead th {\n",
       "        text-align: right;\n",
       "    }\n",
       "</style>\n",
       "<table border=\"1\" class=\"dataframe\">\n",
       "  <thead>\n",
       "    <tr style=\"text-align: right;\">\n",
       "      <th></th>\n",
       "      <th>pc1</th>\n",
       "      <th>pc2</th>\n",
       "      <th>label</th>\n",
       "    </tr>\n",
       "  </thead>\n",
       "  <tbody>\n",
       "    <tr>\n",
       "      <th>0</th>\n",
       "      <td>-16785.415404</td>\n",
       "      <td>-539.847049</td>\n",
       "      <td>7</td>\n",
       "    </tr>\n",
       "    <tr>\n",
       "      <th>1</th>\n",
       "      <td>22431.758880</td>\n",
       "      <td>859.391866</td>\n",
       "      <td>2</td>\n",
       "    </tr>\n",
       "    <tr>\n",
       "      <th>2</th>\n",
       "      <td>18016.712365</td>\n",
       "      <td>-477.221153</td>\n",
       "      <td>1</td>\n",
       "    </tr>\n",
       "    <tr>\n",
       "      <th>3</th>\n",
       "      <td>-20889.280501</td>\n",
       "      <td>1119.731388</td>\n",
       "      <td>6</td>\n",
       "    </tr>\n",
       "    <tr>\n",
       "      <th>4</th>\n",
       "      <td>-21130.088864</td>\n",
       "      <td>-31.280760</td>\n",
       "      <td>2</td>\n",
       "    </tr>\n",
       "  </tbody>\n",
       "</table>\n",
       "</div>"
      ],
      "text/plain": [
       "            pc1          pc2  label\n",
       "0 -16785.415404  -539.847049      7\n",
       "1  22431.758880   859.391866      2\n",
       "2  18016.712365  -477.221153      1\n",
       "3 -20889.280501  1119.731388      6\n",
       "4 -21130.088864   -31.280760      2"
      ]
     },
     "execution_count": 183,
     "metadata": {},
     "output_type": "execute_result"
    }
   ],
   "source": [
    "projected[\"label\"] = projected[\"label\"].astype(int)\n",
    "projected.head()"
   ]
  },
  {
   "cell_type": "code",
   "execution_count": 185,
   "id": "24f57722",
   "metadata": {},
   "outputs": [],
   "source": [
    "def plot_mnist(x,y):\n",
    "    # Finally, we draw a scatter plot to display the projected values.\n",
    "    colors = [\"#FF0000\",\"#00FFFF\",\"#0000FF\",\"#000000\",\"#800080\",\"#FFFF00\",\"#FFA500\",\"#00FF00\",\"#FF00FF\",\"#FFC0CB\"]\n",
    "\n",
    "    fix,ax=plt.subplots(figsize=(10,6))\n",
    "\n",
    "    for l, c in zip(np.unique(y), colors):\n",
    "            ax.scatter(\n",
    "                x[y==l,0],\n",
    "                x[y==l,1],\n",
    "                c=c, label=l\n",
    "            )\n",
    "\n",
    "    ax.set_title(\"Data Distribution\")\n",
    "    ax.legend(loc='upper right')"
   ]
  },
  {
   "cell_type": "code",
   "execution_count": 186,
   "id": "c9cd0c6c",
   "metadata": {
    "scrolled": true
   },
   "outputs": [
    {
     "data": {
      "image/png": "[encoded data removed]",
      "text/plain": [
       "<Figure size 720x432 with 1 Axes>"
      ]
     },
     "metadata": {
      "needs_background": "light"
     },
     "output_type": "display_data"
    }
   ],
   "source": [
    "# Finally, we draw a scatter plot to display the projected values.\n",
    "colors = [\"#FF0000\",\"#00FFFF\",\"#0000FF\",\"#000000\",\"#800080\",\"#FFFF00\",\"#FFA500\",\"#00FF00\",\"#FF00FF\",\"#FFC0CB\"]\n",
    "\n",
    "plot_mnist(x,y)\n"
   ]
  },
  {
   "cell_type": "markdown",
   "id": "8209fc8e",
   "metadata": {},
   "source": [
    "However, the data distribution is not clear as most of the features are overlapping."
   ]
  },
  {
   "cell_type": "markdown",
   "id": "aed55f61",
   "metadata": {},
   "source": [
    "#### t-SNE\n",
    "t-Distributed Stochastic Neighbor Embedding (t-SNE) is a technique for dimensionality reduction that is particularly well suited for the visualization of high-dimensional datasets."
   ]
  },
  {
   "cell_type": "code",
   "execution_count": 194,
   "id": "14c177b8",
   "metadata": {},
   "outputs": [
    {
     "data": {
      "text/plain": [
       "array([[ 12.733428  ,  14.152243  ],\n",
       "       [-26.27509   ,   0.08943711],\n",
       "       [-19.038746  ,  -7.1313486 ],\n",
       "       ...,\n",
       "       [-30.22444   ,  10.427003  ],\n",
       "       [  2.1331637 ,  23.582727  ],\n",
       "       [-18.504028  ,  -5.7572217 ]], dtype=float32)"
      ]
     },
     "execution_count": 194,
     "metadata": {},
     "output_type": "execute_result"
    }
   ],
   "source": [
    "from sklearn.manifold import TSNE\n",
    "\n",
    "data_temp = data.sample(frac=0.01,random_state=42)\n",
    "data_temp.reset_index(inplace=True)\n",
    "\n",
    "x = data_temp.drop(\"label\",axis=1)\n",
    "y = data_temp[\"label\"]\n",
    "\n",
    "x_embedded = TSNE(n_components=2, learning_rate='auto',\n",
    "                  init='random').fit_transform(x)\n",
    "x_embedded"
   ]
  },
  {
   "cell_type": "code",
   "execution_count": 195,
   "id": "7cc09d26",
   "metadata": {},
   "outputs": [
    {
     "data": {
      "image/png": "[encoded data removed]",
      "text/plain": [
       "<Figure size 720x432 with 1 Axes>"
      ]
     },
     "metadata": {
      "needs_background": "light"
     },
     "output_type": "display_data"
    }
   ],
   "source": [
    "plot_mnist(x_embedded,y)"
   ]
  },
  {
   "cell_type": "code",
   "execution_count": null,
   "id": "53065f44",
   "metadata": {},
   "outputs": [],
   "source": []
  }
 ],
 "metadata": {
  "kernelspec": {
   "display_name": "Python 3 (ipykernel)",
   "language": "python",
   "name": "python3"
  },
  "language_info": {
   "codemirror_mode": {
    "name": "ipython",
    "version": 3
   },
   "file_extension": ".py",
   "mimetype": "text/x-python",
   "name": "python",
   "nbconvert_exporter": "python",
   "pygments_lexer": "ipython3",
   "version": "3.9.7"
  }
 },
 "nbformat": 4,
 "nbformat_minor": 5
}
