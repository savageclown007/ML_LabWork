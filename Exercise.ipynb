{
 "cells": [
  {
   "cell_type": "code",
   "execution_count": 1,
   "id": "fe6b61b3",
   "metadata": {},
   "outputs": [],
   "source": [
    "import numpy as np\n",
    "import pandas as pd\n"
   ]
  },
  {
   "cell_type": "code",
   "execution_count": 3,
   "id": "fc422a1d",
   "metadata": {},
   "outputs": [],
   "source": [
    "Dict1={\n",
    "       \"name\":['harry', 'rohan', 'akash', 'shubh'],\n",
    "   \"Age\":[18, 20, 19, 22],\n",
    "   \"city\":['raipur', 'kolkata', 'bareilly', 'agra']\n",
    "}"
   ]
  },
  {
   "cell_type": "code",
   "execution_count": 5,
   "id": "de7cf215",
   "metadata": {},
   "outputs": [],
   "source": [
    "df=pd.DataFrame(Dict1)"
   ]
  },
  {
   "cell_type": "code",
   "execution_count": 6,
   "id": "0d2e2791",
   "metadata": {},
   "outputs": [
    {
     "data": {
      "text/html": [
       "<div>\n",
       "<style scoped>\n",
       "    .dataframe tbody tr th:only-of-type {\n",
       "        vertical-align: middle;\n",
       "    }\n",
       "\n",
       "    .dataframe tbody tr th {\n",
       "        vertical-align: top;\n",
       "    }\n",
       "\n",
       "    .dataframe thead th {\n",
       "        text-align: right;\n",
       "    }\n",
       "</style>\n",
       "<table border=\"1\" class=\"dataframe\">\n",
       "  <thead>\n",
       "    <tr style=\"text-align: right;\">\n",
       "      <th></th>\n",
       "      <th>name</th>\n",
       "      <th>Age</th>\n",
       "      <th>city</th>\n",
       "    </tr>\n",
       "  </thead>\n",
       "  <tbody>\n",
       "    <tr>\n",
       "      <th>0</th>\n",
       "      <td>harry</td>\n",
       "      <td>18</td>\n",
       "      <td>raipur</td>\n",
       "    </tr>\n",
       "    <tr>\n",
       "      <th>1</th>\n",
       "      <td>rohan</td>\n",
       "      <td>20</td>\n",
       "      <td>kolkata</td>\n",
       "    </tr>\n",
       "    <tr>\n",
       "      <th>2</th>\n",
       "      <td>akash</td>\n",
       "      <td>19</td>\n",
       "      <td>bareilly</td>\n",
       "    </tr>\n",
       "    <tr>\n",
       "      <th>3</th>\n",
       "      <td>shubh</td>\n",
       "      <td>22</td>\n",
       "      <td>agra</td>\n",
       "    </tr>\n",
       "  </tbody>\n",
       "</table>\n",
       "</div>"
      ],
      "text/plain": [
       "    name  Age      city\n",
       "0  harry   18    raipur\n",
       "1  rohan   20   kolkata\n",
       "2  akash   19  bareilly\n",
       "3  shubh   22      agra"
      ]
     },
     "execution_count": 6,
     "metadata": {},
     "output_type": "execute_result"
    }
   ],
   "source": [
    "df"
   ]
  },
  {
   "cell_type": "code",
   "execution_count": 7,
   "id": "805c7eaa",
   "metadata": {},
   "outputs": [],
   "source": [
    "import math"
   ]
  },
  {
   "cell_type": "code",
   "execution_count": 8,
   "id": "ce84a34c",
   "metadata": {},
   "outputs": [
    {
     "name": "stdout",
     "output_type": "stream",
     "text": [
      "4.0\n"
     ]
    }
   ],
   "source": [
    "a=16\n",
    "print(math.sqrt(a))"
   ]
  },
  {
   "cell_type": "code",
   "execution_count": 10,
   "id": "50715037",
   "metadata": {},
   "outputs": [
    {
     "name": "stdout",
     "output_type": "stream",
     "text": [
      "4096.0\n"
     ]
    }
   ],
   "source": [
    "print(math.pow(a,3))"
   ]
  },
  {
   "cell_type": "code",
   "execution_count": 13,
   "id": "e320eb91",
   "metadata": {},
   "outputs": [],
   "source": [
    "z=16*math.pi\n"
   ]
  },
  {
   "cell_type": "code",
   "execution_count": 14,
   "id": "49fcd0fe",
   "metadata": {},
   "outputs": [
    {
     "data": {
      "text/plain": [
       "50.26548245743669"
      ]
     },
     "execution_count": 14,
     "metadata": {},
     "output_type": "execute_result"
    }
   ],
   "source": [
    "z"
   ]
  },
  {
   "cell_type": "code",
   "execution_count": 15,
   "id": "a6a118af",
   "metadata": {},
   "outputs": [
    {
     "name": "stdout",
     "output_type": "stream",
     "text": [
      "False\n",
      "True\n",
      "True\n"
     ]
    }
   ],
   "source": [
    "x1=True\n",
    "x2=False\n",
    "\n",
    "print(x1 and x2)\n",
    "print(x1 or x2)\n",
    "print(x1 and not x2)\n",
    "\n"
   ]
  },
  {
   "cell_type": "code",
   "execution_count": 16,
   "id": "1fe5ed4d",
   "metadata": {},
   "outputs": [
    {
     "name": "stdout",
     "output_type": "stream",
     "text": [
      "ring\n"
     ]
    }
   ],
   "source": [
    "s1 = \"String\"\n",
    "\n",
    "print(s1[2:])"
   ]
  },
  {
   "cell_type": "code",
   "execution_count": 17,
   "id": "8ec0214d",
   "metadata": {},
   "outputs": [
    {
     "name": "stdout",
     "output_type": "stream",
     "text": [
      "6\n"
     ]
    }
   ],
   "source": [
    "print(len(s1))"
   ]
  },
  {
   "cell_type": "code",
   "execution_count": 20,
   "id": "b7d1cf2b",
   "metadata": {},
   "outputs": [
    {
     "name": "stdout",
     "output_type": "stream",
     "text": [
      "Length of String is : 6\n"
     ]
    }
   ],
   "source": [
    "print(\"Length of String is :\", len (s1))"
   ]
  },
  {
   "cell_type": "code",
   "execution_count": 22,
   "id": "b9e98420",
   "metadata": {},
   "outputs": [
    {
     "name": "stdout",
     "output_type": "stream",
     "text": [
      "STRING\n"
     ]
    }
   ],
   "source": [
    "print(s1.upper())"
   ]
  },
  {
   "cell_type": "code",
   "execution_count": 23,
   "id": "d3ff6212",
   "metadata": {},
   "outputs": [],
   "source": [
    "s2 = \"This is a Game\""
   ]
  },
  {
   "cell_type": "code",
   "execution_count": 27,
   "id": "2fe5767d",
   "metadata": {},
   "outputs": [],
   "source": [
    "words = s2.split('4')"
   ]
  },
  {
   "cell_type": "code",
   "execution_count": 29,
   "id": "ffa0a3fe",
   "metadata": {},
   "outputs": [
    {
     "name": "stdout",
     "output_type": "stream",
     "text": [
      "This is a Game\n"
     ]
    }
   ],
   "source": [
    "print(words[0])"
   ]
  },
  {
   "cell_type": "code",
   "execution_count": 32,
   "id": "7ca57bb7",
   "metadata": {},
   "outputs": [
    {
     "name": "stdout",
     "output_type": "stream",
     "text": [
      "Thwas was a Game\n",
      "8\n"
     ]
    }
   ],
   "source": [
    "print(s2.replace('is','was'))\n",
    "\n",
    "print(s2.find('a'))"
   ]
  },
  {
   "cell_type": "code",
   "execution_count": 8,
   "id": "113f6d39",
   "metadata": {},
   "outputs": [],
   "source": [
    "list1 =[1, 3, 4,  5, 7]"
   ]
  },
  {
   "cell_type": "code",
   "execution_count": 9,
   "id": "2a7f206f",
   "metadata": {},
   "outputs": [
    {
     "name": "stdout",
     "output_type": "stream",
     "text": [
      "[1, 3, 4, 5, 7]\n"
     ]
    }
   ],
   "source": [
    "print(list1)"
   ]
  },
  {
   "cell_type": "code",
   "execution_count": 10,
   "id": "09949f41",
   "metadata": {},
   "outputs": [
    {
     "name": "stdout",
     "output_type": "stream",
     "text": [
      "20\n"
     ]
    }
   ],
   "source": [
    "print(sum(list1))"
   ]
  },
  {
   "cell_type": "code",
   "execution_count": 13,
   "id": "0cf142a4",
   "metadata": {},
   "outputs": [
    {
     "name": "stdout",
     "output_type": "stream",
     "text": [
      "[0, 2, 4, 6, 8, 10, 12, 14]\n"
     ]
    }
   ],
   "source": [
    "list2= list(range(0,16,2))\n",
    "print(list2)"
   ]
  },
  {
   "cell_type": "code",
   "execution_count": 15,
   "id": "36a1276a",
   "metadata": {},
   "outputs": [
    {
     "name": "stdout",
     "output_type": "stream",
     "text": [
      "[1, 3, 4, 5, 7, 11, 11]\n"
     ]
    }
   ],
   "source": [
    "list1.append(11) \n",
    "print(list1)"
   ]
  },
  {
   "cell_type": "code",
   "execution_count": 16,
   "id": "296415ba",
   "metadata": {},
   "outputs": [
    {
     "name": "stdout",
     "output_type": "stream",
     "text": [
      "11\n",
      "[1, 3, 4, 5, 7, 11]\n"
     ]
    }
   ],
   "source": [
    "print(list1.pop())            \n",
    "print(list1)"
   ]
  },
  {
   "cell_type": "code",
   "execution_count": 17,
   "id": "5181dd25",
   "metadata": {},
   "outputs": [
    {
     "name": "stdout",
     "output_type": "stream",
     "text": [
      "[1, 3, 4, 5, 7, 11, 11, 13, 15]\n"
     ]
    }
   ],
   "source": [
    "print(list1 + [11,13,15]) "
   ]
  },
  {
   "cell_type": "code",
   "execution_count": 18,
   "id": "de5c13e1",
   "metadata": {},
   "outputs": [
    {
     "name": "stdout",
     "output_type": "stream",
     "text": [
      "[1, 3, 4, 5, 7, 11, 1, 3, 4, 5, 7, 11, 1, 3, 4, 5, 7, 11]\n"
     ]
    }
   ],
   "source": [
    "print(list1 * 3) "
   ]
  },
  {
   "cell_type": "code",
   "execution_count": 19,
   "id": "305a4e96",
   "metadata": {},
   "outputs": [
    {
     "name": "stdout",
     "output_type": "stream",
     "text": [
      "[11, 7, 5, 4, 3, 1]\n"
     ]
    }
   ],
   "source": [
    "list1.sort(reverse=True)      \n",
    "print(list1)"
   ]
  },
  {
   "cell_type": "code",
   "execution_count": 20,
   "id": "3d3aa0c6",
   "metadata": {},
   "outputs": [
    {
     "name": "stdout",
     "output_type": "stream",
     "text": [
      "['this', 'is', 'a', 'program']\n",
      "<class 'list'>\n",
      "False\n",
      "a\n",
      "['this', 'is']\n",
      "['a', 'program']\n",
      "this is a program too\n",
      "['this', 'a', 'program', 'too']\n"
     ]
    }
   ],
   "source": [
    "list3 = ['this', 'is', 'a', 'program']\n",
    "print(list3)\n",
    "print(type(list3))\n",
    "\n",
    "print(\"list\" in list3)         \n",
    "print(list3[2])               \n",
    "print(list3[:2])                \n",
    "print(list3[2:])                \n",
    "list3.append(\"too\")            \n",
    "separator = \" \"\n",
    "print(separator.join(list3))    \n",
    "\n",
    "list3.remove(\"is\")            \n",
    "print(list3)"
   ]
  },
  {
   "cell_type": "code",
   "execution_count": 21,
   "id": "224571a5",
   "metadata": {},
   "outputs": [
    {
     "name": "stdout",
     "output_type": "stream",
     "text": [
      "x = 32 is even\n",
      "x = 32 is positive\n"
     ]
    }
   ],
   "source": [
    "x = 32\n",
    "\n",
    "if x % 2 == 0:\n",
    "    print(\"x =\", x, \"is even\")\n",
    "else:\n",
    "    print(\"x =\", x, \"is odd\")\n",
    "\n",
    "if x > 0:\n",
    "    print(\"x =\", x, \"is positive\")\n",
    "elif x < 0:\n",
    "    print(\"x =\", x, \"is negative\")\n",
    "else:\n",
    "    print(\"x =\", x, \"is neither positive nor negative\")"
   ]
  },
  {
   "cell_type": "code",
   "execution_count": 22,
   "id": "e6ebd63e",
   "metadata": {},
   "outputs": [
    {
     "name": "stdout",
     "output_type": "stream",
     "text": [
      "[-10, -9, -8, -7, -6, -5, -4, -3, -2, -1, 0, 1, 2, 3, 4, 5, 6, 7, 8, 9]\n",
      "First non-negative number: 0\n"
     ]
    }
   ],
   "source": [
    "mylist = list(range(-10,10))\n",
    "print(mylist)\n",
    "\n",
    "i = 0\n",
    "while (mylist[i] < 0):\n",
    "    i = i + 1\n",
    "    \n",
    "print(\"First non-negative number:\", mylist[i])"
   ]
  },
  {
   "cell_type": "code",
   "execution_count": 1,
   "id": "d1fcd7d2",
   "metadata": {},
   "outputs": [
    {
     "name": "stdout",
     "output_type": "stream",
     "text": [
      "[1 5 8 6 3 7 8 4 6]\n"
     ]
    }
   ],
   "source": [
    "import numpy as np\n",
    "\n",
    "Arr = np.array([1,5,8,6,3,7,8,4,6])   \n",
    "print(Arr)\n"
   ]
  },
  {
   "cell_type": "code",
   "execution_count": 2,
   "id": "115a478a",
   "metadata": {},
   "outputs": [
    {
     "name": "stdout",
     "output_type": "stream",
     "text": [
      "#Dimensions = 1\n"
     ]
    }
   ],
   "source": [
    "print(\"#Dimensions =\", Arr.ndim)\n"
   ]
  },
  {
   "cell_type": "code",
   "execution_count": 3,
   "id": "24b7169c",
   "metadata": {},
   "outputs": [
    {
     "name": "stdout",
     "output_type": "stream",
     "text": [
      "Dimension = (9,)\n"
     ]
    }
   ],
   "source": [
    "print(\"Dimension =\", Arr.shape)\n"
   ]
  },
  {
   "cell_type": "code",
   "execution_count": 4,
   "id": "44d79af3",
   "metadata": {},
   "outputs": [
    {
     "name": "stdout",
     "output_type": "stream",
     "text": [
      "Size = 9\n"
     ]
    }
   ],
   "source": [
    "print(\"Size =\", Arr.size)\n"
   ]
  },
  {
   "cell_type": "code",
   "execution_count": 5,
   "id": "7f638217",
   "metadata": {},
   "outputs": [
    {
     "name": "stdout",
     "output_type": "stream",
     "text": [
      "Array type = int32 \n",
      "\n"
     ]
    }
   ],
   "source": [
    "print(\"Array type =\", Arr.dtype, '\\n')"
   ]
  },
  {
   "cell_type": "code",
   "execution_count": 6,
   "id": "31340657",
   "metadata": {},
   "outputs": [
    {
     "name": "stdout",
     "output_type": "stream",
     "text": [
      "[[1 2]\n",
      " [3 4]\n",
      " [5 6]\n",
      " [7 8]]\n",
      "#Dimensions = 2\n"
     ]
    }
   ],
   "source": [
    "Arr2 = np.array([[1,2],[3,4],[5,6],[7,8]])\n",
    "print(Arr2)\n",
    "print(\"#Dimensions =\", Arr2.ndim)\n"
   ]
  },
  {
   "cell_type": "code",
   "execution_count": 7,
   "id": "6aa78c3b",
   "metadata": {},
   "outputs": [
    {
     "name": "stdout",
     "output_type": "stream",
     "text": [
      "Dimension = (4, 2)\n",
      "Size = 8\n"
     ]
    }
   ],
   "source": [
    "print(\"Dimension =\", Arr2.shape)\n",
    "print(\"Size =\", Arr2.size)\n"
   ]
  },
  {
   "cell_type": "code",
   "execution_count": 8,
   "id": "20724db4",
   "metadata": {},
   "outputs": [
    {
     "name": "stdout",
     "output_type": "stream",
     "text": [
      "Array type = int32 \n",
      "\n"
     ]
    }
   ],
   "source": [
    "print(\"Array type =\", Arr2.dtype, '\\n')"
   ]
  },
  {
   "cell_type": "code",
   "execution_count": 9,
   "id": "9fd323e3",
   "metadata": {},
   "outputs": [
    {
     "name": "stdout",
     "output_type": "stream",
     "text": [
      "[['5' 'a' '6.0']\n",
      " ['2' 'b' '3.5']]\n"
     ]
    }
   ],
   "source": [
    "arr3 = np.array([(5,'a',6.0),(2,'b',3.5)])  \n",
    "print(arr3)\n"
   ]
  },
  {
   "cell_type": "code",
   "execution_count": 10,
   "id": "66230e14",
   "metadata": {},
   "outputs": [
    {
     "name": "stdout",
     "output_type": "stream",
     "text": [
      "#Dimensions = 2\n",
      "Dimension = (2, 3)\n"
     ]
    }
   ],
   "source": [
    "print(\"#Dimensions =\", arr3.ndim)\n",
    "print(\"Dimension =\", arr3.shape)\n"
   ]
  },
  {
   "cell_type": "code",
   "execution_count": 11,
   "id": "ecce478e",
   "metadata": {},
   "outputs": [
    {
     "name": "stdout",
     "output_type": "stream",
     "text": [
      "Size = 6\n"
     ]
    }
   ],
   "source": [
    "print(\"Size =\", arr3.size)"
   ]
  },
  {
   "cell_type": "code",
   "execution_count": 12,
   "id": "3daa6246",
   "metadata": {},
   "outputs": [
    {
     "name": "stdout",
     "output_type": "stream",
     "text": [
      "[0.13257212 0.04898922 0.16611711 0.70064221 0.37926132]\n"
     ]
    }
   ],
   "source": [
    "print(np.random.rand(5))   "
   ]
  },
  {
   "cell_type": "code",
   "execution_count": 13,
   "id": "45b89c9a",
   "metadata": {},
   "outputs": [
    {
     "name": "stdout",
     "output_type": "stream",
     "text": [
      "[ 0.56944812  0.74341708  1.09553239 -0.36257579  1.37998288]\n"
     ]
    }
   ],
   "source": [
    "print(np.random.randn(5)) "
   ]
  },
  {
   "cell_type": "code",
   "execution_count": 14,
   "id": "e959ba0f",
   "metadata": {},
   "outputs": [
    {
     "name": "stdout",
     "output_type": "stream",
     "text": [
      "[-20 -18 -16 -14 -12 -10  -8  -6  -4  -2   0   2   4   6   8]\n"
     ]
    }
   ],
   "source": [
    "print(np.arange(-20,10,2))"
   ]
  },
  {
   "cell_type": "code",
   "execution_count": 18,
   "id": "379b8851",
   "metadata": {},
   "outputs": [
    {
     "name": "stdout",
     "output_type": "stream",
     "text": [
      "[[ 0  1  2  3]\n",
      " [ 4  5  6  7]\n",
      " [ 8  9 10 11]\n",
      " [12 13 14 15]]\n"
     ]
    }
   ],
   "source": [
    "print(np.arange(16).reshape(4,4))"
   ]
  },
  {
   "cell_type": "code",
   "execution_count": 19,
   "id": "50cf5325",
   "metadata": {},
   "outputs": [
    {
     "name": "stdout",
     "output_type": "stream",
     "text": [
      "[[0. 0. 0.]\n",
      " [0. 0. 0.]]\n"
     ]
    }
   ],
   "source": [
    "print(np.zeros((2,3))) "
   ]
  },
  {
   "cell_type": "code",
   "execution_count": 20,
   "id": "0afac65b",
   "metadata": {},
   "outputs": [
    {
     "name": "stdout",
     "output_type": "stream",
     "text": [
      "x = [8 4 6 9 3 4]\n"
     ]
    }
   ],
   "source": [
    "x = np.array([8,4,6,9,3,4])\n",
    "\n",
    "print('x =', x)\n"
   ]
  },
  {
   "cell_type": "code",
   "execution_count": 21,
   "id": "af32c570",
   "metadata": {},
   "outputs": [
    {
     "name": "stdout",
     "output_type": "stream",
     "text": [
      "x + 1 = [ 9  5  7 10  4  5]\n",
      "x - 1 = [7 3 5 8 2 3]\n"
     ]
    }
   ],
   "source": [
    "print('x + 1 =', x + 1)      \n",
    "print('x - 1 =', x - 1)      "
   ]
  },
  {
   "cell_type": "code",
   "execution_count": 22,
   "id": "8943b0d2",
   "metadata": {},
   "outputs": [
    {
     "name": "stdout",
     "output_type": "stream",
     "text": [
      "x * 2 = [16  8 12 18  6  8]\n",
      "x // 2 = [4 2 3 4 1 2]\n",
      "x ** 2 = [64 16 36 81  9 16]\n",
      "x % 2 = [0 0 0 1 1 0]\n",
      "1 / x = [0.125      0.25       0.16666667 0.11111111 0.33333333 0.25      ]\n"
     ]
    }
   ],
   "source": [
    "print('x * 2 =', x * 2)      \n",
    "print('x // 2 =', x // 2)     \n",
    "print('x ** 2 =', x ** 2)     \n",
    "print('x % 2 =', x % 2)       \n",
    "print('1 / x =', 1 / x) "
   ]
  },
  {
   "cell_type": "code",
   "execution_count": 23,
   "id": "0b6cf698",
   "metadata": {},
   "outputs": [
    {
     "name": "stdout",
     "output_type": "stream",
     "text": [
      "Before: x = [-5 -4 -3 -2 -1  0  1  2  3  4]\n"
     ]
    }
   ],
   "source": [
    "x = np.arange(-5,5)\n",
    "print('Before: x =', x)"
   ]
  },
  {
   "cell_type": "code",
   "execution_count": 24,
   "id": "e38c5943",
   "metadata": {},
   "outputs": [
    {
     "name": "stdout",
     "output_type": "stream",
     "text": [
      "        y = [-2 -1]\n",
      "After : y = [1000 1000]\n",
      "        x = [  -5   -4   -3 1000 1000    0    1    2    3    4] \n",
      "\n"
     ]
    }
   ],
   "source": [
    "y = x[3:5]     \n",
    "print('        y =', y)\n",
    "y[:] = 1000   \n",
    "print('After : y =', y)\n",
    "print('        x =', x, '\\n')"
   ]
  },
  {
   "cell_type": "code",
   "execution_count": 25,
   "id": "11c8421d",
   "metadata": {},
   "outputs": [
    {
     "name": "stdout",
     "output_type": "stream",
     "text": [
      "Before: x = [  -5   -4   -3 1000 1000    0    1    2    3    4]\n",
      "        z = [1000 1000]\n"
     ]
    }
   ],
   "source": [
    "z = x[3:5].copy()  \n",
    "print('Before: x =', x)\n",
    "print('        z =', z)\n"
   ]
  },
  {
   "cell_type": "code",
   "execution_count": 27,
   "id": "4e8ab486",
   "metadata": {},
   "outputs": [
    {
     "name": "stdout",
     "output_type": "stream",
     "text": [
      "After : z = [500 500]\n",
      "        x = [  -5   -4   -3 1000 1000    0    1    2    3    4]\n"
     ]
    }
   ],
   "source": [
    "z[:] = 500           # modifying the value of z will not affect x\n",
    "print('After : z =', z)\n",
    "print('        x =', x)"
   ]
  },
  {
   "cell_type": "code",
   "execution_count": 29,
   "id": "69ff75f5",
   "metadata": {},
   "outputs": [
    {
     "name": "stdout",
     "output_type": "stream",
     "text": [
      "mylist = [[1, 2, 3, 4], [5, 6, 7, 8], [9, 10, 11, 12]]\n"
     ]
    }
   ],
   "source": [
    "mylist = [[1,2,3,4],[5,6,7,8],[9,10,11,12]]  # a 2-dim list\n",
    "print('mylist =', mylist)"
   ]
  },
  {
   "cell_type": "code",
   "execution_count": 30,
   "id": "3ac6754b",
   "metadata": {},
   "outputs": [
    {
     "name": "stdout",
     "output_type": "stream",
     "text": [
      "y = [-1.4  0.4 -3.2  2.5  3.4] \n",
      "\n"
     ]
    }
   ],
   "source": [
    "y = np.array([-1.4, 0.4, -3.2, 2.5, 3.4])    \n",
    "print('y =', y, '\\n')"
   ]
  },
  {
   "cell_type": "code",
   "execution_count": 31,
   "id": "dbf235bd",
   "metadata": {},
   "outputs": [
    {
     "name": "stdout",
     "output_type": "stream",
     "text": [
      "X =\n",
      " [[-1.53242414 -1.42342474 -1.73345658]\n",
      " [-1.21986073  1.23941715  2.24924956]] \n",
      "\n"
     ]
    }
   ],
   "source": [
    "X = np.random.randn(2,3)                         # create a 2 x 3 random matrix\n",
    "print('X =\\n', X, '\\n')\n"
   ]
  },
  {
   "cell_type": "code",
   "execution_count": 32,
   "id": "1dc8da4d",
   "metadata": {},
   "outputs": [
    {
     "name": "stdout",
     "output_type": "stream",
     "text": [
      "Transpose of X, X.T =\n",
      " [[-1.53242414 -1.21986073]\n",
      " [-1.42342474  1.23941715]\n",
      " [-1.73345658  2.24924956]] \n",
      "\n"
     ]
    }
   ],
   "source": [
    "print('Transpose of X, X.T =\\n', X.T, '\\n') "
   ]
  },
  {
   "cell_type": "code",
   "execution_count": 33,
   "id": "2745afff",
   "metadata": {},
   "outputs": [
    {
     "name": "stdout",
     "output_type": "stream",
     "text": [
      "Series, s =\n",
      " 0    3.1\n",
      "1    2.4\n",
      "2   -1.7\n",
      "3    0.2\n",
      "4   -2.9\n",
      "5    4.5\n",
      "dtype: float64 \n",
      "\n"
     ]
    }
   ],
   "source": [
    "from pandas import Series\n",
    "\n",
    "s = Series([3.1, 2.4, -1.7, 0.2, -2.9, 4.5])  \n",
    "print('Series, s =\\n', s, '\\n')"
   ]
  },
  {
   "cell_type": "code",
   "execution_count": 34,
   "id": "37a0dc87",
   "metadata": {},
   "outputs": [
    {
     "name": "stdout",
     "output_type": "stream",
     "text": [
      "s.values = [ 3.1  2.4 -1.7  0.2 -2.9  4.5]\n"
     ]
    }
   ],
   "source": [
    "print('s.values =', s.values)  "
   ]
  },
  {
   "cell_type": "code",
   "execution_count": 35,
   "id": "92140f69",
   "metadata": {},
   "outputs": [
    {
     "name": "stdout",
     "output_type": "stream",
     "text": [
      "s.index = RangeIndex(start=0, stop=6, step=1)\n",
      "s.dtype = float64\n"
     ]
    }
   ],
   "source": [
    "print('s.index =', s.index)      \n",
    "print('s.dtype =', s.dtype) "
   ]
  },
  {
   "cell_type": "code",
   "execution_count": 36,
   "id": "69f4e648",
   "metadata": {},
   "outputs": [
    {
     "name": "stdout",
     "output_type": "stream",
     "text": [
      "Series s3 =\n",
      " Jan 1    1.2\n",
      "Jan 2    2.5\n",
      "Jan 3   -2.2\n",
      "Jan 4    3.1\n",
      "Jan 5   -0.8\n",
      "Jan 6   -3.2\n",
      "dtype: float64 \n",
      "\n"
     ]
    }
   ],
   "source": [
    "ser1= Series([1.2,2.5,-2.2,3.1,-0.8,-3.2], \n",
    "            index = ['Jan 1','Jan 2','Jan 3','Jan 4','Jan 5','Jan 6',])\n",
    "print('Series s3 =\\n', ser1, '\\n')"
   ]
  },
  {
   "cell_type": "code",
   "execution_count": 37,
   "id": "f36a25fe",
   "metadata": {},
   "outputs": [
    {
     "name": "stdout",
     "output_type": "stream",
     "text": [
      "s.index = Index(['Jan 1', 'Jan 2', 'Jan 3', 'Jan 4', 'Jan 5', 'Jan 6'], dtype='object')\n",
      "s.dtype = float64\n"
     ]
    }
   ],
   "source": [
    "print('s.index =', ser1.index)      \n",
    "print('s.dtype =', ser1.dtype) "
   ]
  },
  {
   "cell_type": "code",
   "execution_count": 39,
   "id": "8f331807",
   "metadata": {},
   "outputs": [
    {
     "name": "stdout",
     "output_type": "stream",
     "text": [
      "Series s3 =\n",
      " Jan 1    1.2\n",
      "Jan 2    2.5\n",
      "Jan 3   -2.2\n",
      "Jan 4    3.1\n",
      "Jan 5   -0.8\n",
      "Jan 6   -3.2\n",
      "Jan 7    NaN\n",
      "dtype: float64 \n",
      "\n"
     ]
    }
   ],
   "source": [
    "ser1['Jan 7'] = np.nan\n",
    "print('Series s3 =\\n', ser1, '\\n')"
   ]
  },
  {
   "cell_type": "code",
   "execution_count": 40,
   "id": "c3686714",
   "metadata": {},
   "outputs": [
    {
     "name": "stdout",
     "output_type": "stream",
     "text": [
      "0        3.1\n",
      "1        2.4\n",
      "2       -1.7\n",
      "3        0.2\n",
      "4       -2.9\n",
      "5        4.5\n",
      "Jan 7    NaN\n",
      "dtype: float64\n"
     ]
    }
   ],
   "source": [
    "s['Jan 7'] = np.nan\n",
    "print(s)"
   ]
  },
  {
   "cell_type": "code",
   "execution_count": 41,
   "id": "7f9b48a3",
   "metadata": {},
   "outputs": [
    {
     "name": "stdout",
     "output_type": "stream",
     "text": [
      "Jan 1    1.2\n",
      "Jan 2    2.5\n",
      "Jan 4    3.1\n",
      "dtype: float64\n"
     ]
    }
   ],
   "source": [
    "print(ser1[ser1 > 0]) "
   ]
  },
  {
   "cell_type": "code",
   "execution_count": 42,
   "id": "42a6b355",
   "metadata": {},
   "outputs": [
    {
     "name": "stdout",
     "output_type": "stream",
     "text": [
      "ser1 / 4 =\n",
      " Jan 1    0.300\n",
      "Jan 2    0.625\n",
      "Jan 3   -0.550\n",
      "Jan 4    0.775\n",
      "Jan 5   -0.200\n",
      "Jan 6   -0.800\n",
      "Jan 7      NaN\n",
      "dtype: float64\n"
     ]
    }
   ],
   "source": [
    "print('ser1 / 4 =\\n', ser1 / 4)   "
   ]
  },
  {
   "cell_type": "code",
   "execution_count": 49,
   "id": "5d0936c4",
   "metadata": {},
   "outputs": [
    {
     "data": {
      "text/html": [
       "<div>\n",
       "<style scoped>\n",
       "    .dataframe tbody tr th:only-of-type {\n",
       "        vertical-align: middle;\n",
       "    }\n",
       "\n",
       "    .dataframe tbody tr th {\n",
       "        vertical-align: top;\n",
       "    }\n",
       "\n",
       "    .dataframe thead th {\n",
       "        text-align: right;\n",
       "    }\n",
       "</style>\n",
       "<table border=\"1\" class=\"dataframe\">\n",
       "  <thead>\n",
       "    <tr style=\"text-align: right;\">\n",
       "      <th></th>\n",
       "      <th>year</th>\n",
       "      <th>temp</th>\n",
       "      <th>precip</th>\n",
       "    </tr>\n",
       "  </thead>\n",
       "  <tbody>\n",
       "    <tr>\n",
       "      <th>0</th>\n",
       "      <td>2011</td>\n",
       "      <td>45.1</td>\n",
       "      <td>32.4</td>\n",
       "    </tr>\n",
       "    <tr>\n",
       "      <th>1</th>\n",
       "      <td>2012</td>\n",
       "      <td>42.4</td>\n",
       "      <td>34.5</td>\n",
       "    </tr>\n",
       "    <tr>\n",
       "      <th>2</th>\n",
       "      <td>2013</td>\n",
       "      <td>47.2</td>\n",
       "      <td>39.2</td>\n",
       "    </tr>\n",
       "    <tr>\n",
       "      <th>3</th>\n",
       "      <td>2014</td>\n",
       "      <td>44.2</td>\n",
       "      <td>31.4</td>\n",
       "    </tr>\n",
       "    <tr>\n",
       "      <th>4</th>\n",
       "      <td>2015</td>\n",
       "      <td>39.9</td>\n",
       "      <td>29.8</td>\n",
       "    </tr>\n",
       "    <tr>\n",
       "      <th>5</th>\n",
       "      <td>2016</td>\n",
       "      <td>41.5</td>\n",
       "      <td>36.7</td>\n",
       "    </tr>\n",
       "  </tbody>\n",
       "</table>\n",
       "</div>"
      ],
      "text/plain": [
       "   year  temp  precip\n",
       "0  2011  45.1    32.4\n",
       "1  2012  42.4    34.5\n",
       "2  2013  47.2    39.2\n",
       "3  2014  44.2    31.4\n",
       "4  2015  39.9    29.8\n",
       "5  2016  41.5    36.7"
      ]
     },
     "execution_count": 49,
     "metadata": {},
     "output_type": "execute_result"
    }
   ],
   "source": [
    "from pandas import DataFrame\n",
    "\n",
    "raj = [(2011,45.1,32.4),(2012,42.4,34.5),(2013,47.2,39.2),\n",
    "              (2014,44.2,31.4),(2015,39.9,29.8),(2016,41.5,36.7)]\n",
    "columnNames = ['year','temp','precip']\n",
    "weatherData = DataFrame(raj, columns=columnNames ) \n",
    "weatherData"
   ]
  },
  {
   "cell_type": "code",
   "execution_count": null,
   "id": "a1d32bf9",
   "metadata": {},
   "outputs": [],
   "source": []
  }
 ],
 "metadata": {
  "kernelspec": {
   "display_name": "Python 3 (ipykernel)",
   "language": "python",
   "name": "python3"
  },
  "language_info": {
   "codemirror_mode": {
    "name": "ipython",
    "version": 3
   },
   "file_extension": ".py",
   "mimetype": "text/x-python",
   "name": "python",
   "nbconvert_exporter": "python",
   "pygments_lexer": "ipython3",
   "version": "3.9.7"
  }
 },
 "nbformat": 4,
 "nbformat_minor": 5
}
